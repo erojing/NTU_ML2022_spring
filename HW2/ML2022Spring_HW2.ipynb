{
  "cells": [
    {
      "cell_type": "markdown",
      "metadata": {
        "id": "OYlaRwNu7ojq"
      },
      "source": [
        "# **Homework 2 Phoneme Classification**\n",
        "\n",
        "* Slides: https://docs.google.com/presentation/d/1v6HkBWiJb8WNDcJ9_-2kwVstxUWml87b9CnA16Gdoio/edit?usp=sharing\n",
        "* Kaggle: https://www.kaggle.com/c/ml2022spring-hw2\n",
        "* Video: TBA\n"
      ]
    },
    {
      "cell_type": "code",
      "execution_count": null,
      "metadata": {
        "colab": {
          "base_uri": "https://localhost:8080/"
        },
        "id": "mLQI0mNcmM-O",
        "outputId": "7d5b4d81-9438-4d50-8153-cd235c47ee21"
      },
      "outputs": [
        {
          "name": "stdout",
          "output_type": "stream",
          "text": [
            "Wed Feb 23 14:42:18 2022       \n",
            "+-----------------------------------------------------------------------------+\n",
            "| NVIDIA-SMI 460.32.03    Driver Version: 460.32.03    CUDA Version: 11.2     |\n",
            "|-------------------------------+----------------------+----------------------+\n",
            "| GPU  Name        Persistence-M| Bus-Id        Disp.A | Volatile Uncorr. ECC |\n",
            "| Fan  Temp  Perf  Pwr:Usage/Cap|         Memory-Usage | GPU-Util  Compute M. |\n",
            "|                               |                      |               MIG M. |\n",
            "|===============================+======================+======================|\n",
            "|   0  Tesla K80           Off  | 00000000:00:04.0 Off |                    0 |\n",
            "| N/A   30C    P8    29W / 149W |      0MiB / 11441MiB |      0%      Default |\n",
            "|                               |                      |                  N/A |\n",
            "+-------------------------------+----------------------+----------------------+\n",
            "                                                                               \n",
            "+-----------------------------------------------------------------------------+\n",
            "| Processes:                                                                  |\n",
            "|  GPU   GI   CI        PID   Type   Process name                  GPU Memory |\n",
            "|        ID   ID                                                   Usage      |\n",
            "|=============================================================================|\n",
            "|  No running processes found                                                 |\n",
            "+-----------------------------------------------------------------------------+\n"
          ]
        }
      ],
      "source": [
        "!nvidia-smi"
      ]
    },
    {
      "cell_type": "markdown",
      "metadata": {
        "id": "KVUGfWTo7_Oj"
      },
      "source": [
        "## Download Data\n",
        "Download data from google drive, then unzip it.\n",
        "\n",
        "You should have\n",
        "- `libriphone/train_split.txt`\n",
        "- `libriphone/train_labels`\n",
        "- `libriphone/test_split.txt`\n",
        "- `libriphone/feat/train/*.pt`: training feature<br>\n",
        "- `libriphone/feat/test/*.pt`:  testing feature<br>\n",
        "\n",
        "after running the following block.\n",
        "\n",
        "> **Notes: if the links are dead, you can download the data directly from [Kaggle](https://www.kaggle.com/c/ml2022spring-hw2/data) and upload it to the workspace, or you can use [the Kaggle API](https://www.kaggle.com/general/74235) to directly download the data into colab.**\n"
      ]
    },
    {
      "cell_type": "markdown",
      "metadata": {
        "id": "Bj5jYXsD9Ef3"
      },
      "source": [
        "### Download train/test metadata"
      ]
    },
    {
      "cell_type": "code",
      "execution_count": 3,
      "metadata": {
        "colab": {
          "base_uri": "https://localhost:8080/"
        },
        "id": "OzkiMEcC3Foq",
        "outputId": "cc90c16c-ee21-400e-ec08-dfcd422212a6"
      },
      "outputs": [
        {
          "name": "stderr",
          "output_type": "stream",
          "text": [
            "'wget' ���O�����Υ~���R�O�B�i���檺�{���Χ妸�ɡC\n",
            "'unzip' ���O�����Υ~���R�O�B�i���檺�{���Χ妸�ɡC\n",
            "'ls' ���O�����Υ~���R�O�B�i���檺�{���Χ妸�ɡC\n"
          ]
        }
      ],
      "source": [
        "# Main link\n",
        "!wget -O libriphone.zip \"https://github.com/xraychen/shiny-robot/releases/download/v1.0/libriphone.zip\"\n",
        "\n",
        "# Backup Link 0\n",
        "# !pip install --upgrade gdown\n",
        "# !gdown --id '1o6Ag-G3qItSmYhTheX6DYiuyNzWyHyTc' --output libriphone.zip\n",
        "\n",
        "# Backup link 1\n",
        "# !pip install --upgrade gdown\n",
        "# !gdown --id '1R1uQYi4QpX0tBfUWt2mbZcncdBsJkxeW' --output libriphone.zip\n",
        "\n",
        "# Backup link 2\n",
        "# !wget -O libriphone.zip \"https://www.dropbox.com/s/wqww8c5dbrl2ka9/libriphone.zip?dl=1\"\n",
        "\n",
        "# Backup link 3\n",
        "# !wget -O libriphone.zip \"https://www.dropbox.com/s/p2ljbtb2bam13in/libriphone.zip?dl=1\"\n",
        "\n",
        "!unzip -q libriphone.zip\n",
        "!ls libriphone"
      ]
    },
    {
      "cell_type": "code",
      "execution_count": 7,
      "metadata": {},
      "outputs": [
        {
          "name": "stdout",
          "output_type": "stream",
          "text": [
            "Downloading ml2022spring-hw2.zip to d:\\GitHub_file\\NTU_ML2022_spring\\HW2\n",
            "\n"
          ]
        },
        {
          "name": "stderr",
          "output_type": "stream",
          "text": [
            "\n",
            "  0%|          | 0.00/458M [00:00<?, ?B/s]\n",
            "  1%|          | 4.00M/458M [00:00<00:11, 39.9MB/s]\n",
            "  2%|▏         | 8.00M/458M [00:00<00:12, 39.1MB/s]\n",
            "  3%|▎         | 12.0M/458M [00:00<00:20, 22.9MB/s]\n",
            "  3%|▎         | 15.0M/458M [00:00<00:19, 24.1MB/s]\n",
            "  4%|▍         | 19.0M/458M [00:00<00:16, 28.2MB/s]\n",
            "  5%|▌         | 23.0M/458M [00:00<00:14, 30.8MB/s]\n",
            "  6%|▌         | 27.0M/458M [00:00<00:13, 33.0MB/s]\n",
            "  7%|▋         | 31.0M/458M [00:01<00:13, 32.8MB/s]\n",
            "  8%|▊         | 35.0M/458M [00:01<00:12, 34.5MB/s]\n",
            "  9%|▊         | 39.0M/458M [00:01<00:12, 34.5MB/s]\n",
            "  9%|▉         | 43.0M/458M [00:01<00:12, 33.9MB/s]\n",
            " 10%|█         | 47.0M/458M [00:01<00:12, 34.0MB/s]\n",
            " 11%|█         | 51.0M/458M [00:01<00:12, 35.3MB/s]\n",
            " 12%|█▏        | 55.0M/458M [00:01<00:11, 36.1MB/s]\n",
            " 13%|█▎        | 59.0M/458M [00:01<00:11, 36.8MB/s]\n",
            " 14%|█▍        | 63.0M/458M [00:01<00:11, 37.3MB/s]\n",
            " 15%|█▍        | 67.0M/458M [00:02<00:11, 36.6MB/s]\n",
            " 16%|█▌        | 71.0M/458M [00:02<00:10, 37.2MB/s]\n",
            " 16%|█▋        | 75.0M/458M [00:02<00:11, 35.4MB/s]\n",
            " 17%|█▋        | 79.0M/458M [00:02<00:11, 35.4MB/s]\n",
            " 18%|█▊        | 83.0M/458M [00:02<00:12, 32.5MB/s]\n",
            " 19%|█▉        | 87.0M/458M [00:02<00:11, 34.1MB/s]\n",
            " 20%|█▉        | 91.0M/458M [00:03<00:17, 22.5MB/s]\n",
            " 21%|██        | 95.0M/458M [00:03<00:14, 25.7MB/s]\n",
            " 22%|██▏       | 99.0M/458M [00:03<00:13, 28.5MB/s]\n",
            " 22%|██▏       | 103M/458M [00:03<00:12, 30.9MB/s] \n",
            " 23%|██▎       | 107M/458M [00:03<00:12, 30.6MB/s]\n",
            " 24%|██▍       | 111M/458M [00:03<00:11, 32.7MB/s]\n",
            " 25%|██▌       | 115M/458M [00:03<00:10, 34.3MB/s]\n",
            " 26%|██▌       | 119M/458M [00:03<00:10, 35.3MB/s]\n",
            " 27%|██▋       | 123M/458M [00:03<00:09, 36.2MB/s]\n",
            " 28%|██▊       | 127M/458M [00:04<00:09, 36.9MB/s]\n",
            " 29%|██▊       | 131M/458M [00:04<00:09, 37.3MB/s]\n",
            " 29%|██▉       | 135M/458M [00:04<00:08, 37.7MB/s]\n",
            " 30%|███       | 139M/458M [00:04<00:08, 37.8MB/s]\n",
            " 31%|███       | 143M/458M [00:04<00:08, 37.1MB/s]\n",
            " 32%|███▏      | 147M/458M [00:04<00:08, 37.5MB/s]\n",
            " 33%|███▎      | 151M/458M [00:04<00:08, 37.8MB/s]\n",
            " 34%|███▍      | 155M/458M [00:04<00:08, 38.0MB/s]\n",
            " 35%|███▍      | 159M/458M [00:04<00:08, 38.1MB/s]\n",
            " 36%|███▌      | 163M/458M [00:05<00:11, 26.7MB/s]\n",
            " 36%|███▋      | 167M/458M [00:05<00:10, 29.2MB/s]\n",
            " 37%|███▋      | 171M/458M [00:05<00:09, 31.4MB/s]\n",
            " 38%|███▊      | 175M/458M [00:05<00:09, 32.5MB/s]\n",
            " 39%|███▉      | 179M/458M [00:05<00:08, 34.1MB/s]\n",
            " 40%|███▉      | 183M/458M [00:05<00:08, 35.3MB/s]\n",
            " 41%|████      | 187M/458M [00:05<00:07, 36.2MB/s]\n",
            " 42%|████▏     | 191M/458M [00:05<00:07, 36.9MB/s]\n",
            " 43%|████▎     | 195M/458M [00:06<00:07, 37.3MB/s]\n",
            " 43%|████▎     | 199M/458M [00:06<00:07, 37.3MB/s]\n",
            " 44%|████▍     | 203M/458M [00:06<00:07, 37.7MB/s]\n",
            " 45%|████▌     | 207M/458M [00:06<00:06, 37.7MB/s]\n",
            " 46%|████▌     | 211M/458M [00:06<00:06, 37.2MB/s]\n",
            " 47%|████▋     | 215M/458M [00:06<00:06, 37.5MB/s]\n",
            " 48%|████▊     | 219M/458M [00:06<00:06, 37.8MB/s]\n",
            " 49%|████▊     | 223M/458M [00:06<00:06, 38.0MB/s]\n",
            " 50%|████▉     | 227M/458M [00:06<00:06, 37.9MB/s]\n",
            " 50%|█████     | 231M/458M [00:07<00:06, 38.1MB/s]\n",
            " 51%|█████▏    | 235M/458M [00:07<00:06, 38.2MB/s]\n",
            " 52%|█████▏    | 239M/458M [00:07<00:05, 38.3MB/s]\n",
            " 53%|█████▎    | 243M/458M [00:07<00:05, 38.3MB/s]\n",
            " 54%|█████▍    | 247M/458M [00:07<00:05, 37.4MB/s]\n",
            " 55%|█████▍    | 251M/458M [00:07<00:05, 37.8MB/s]\n",
            " 56%|█████▌    | 255M/458M [00:07<00:05, 37.9MB/s]\n",
            " 57%|█████▋    | 259M/458M [00:07<00:05, 38.2MB/s]\n",
            " 57%|█████▋    | 263M/458M [00:07<00:05, 38.2MB/s]\n",
            " 58%|█████▊    | 267M/458M [00:08<00:05, 38.2MB/s]\n",
            " 59%|█████▉    | 271M/458M [00:08<00:05, 38.4MB/s]\n",
            " 60%|██████    | 275M/458M [00:08<00:05, 38.3MB/s]\n",
            " 61%|██████    | 279M/458M [00:08<00:04, 38.3MB/s]\n",
            " 62%|██████▏   | 283M/458M [00:08<00:04, 37.2MB/s]\n",
            " 63%|██████▎   | 287M/458M [00:08<00:04, 37.7MB/s]\n",
            " 64%|██████▎   | 291M/458M [00:08<00:04, 37.9MB/s]\n",
            " 64%|██████▍   | 295M/458M [00:08<00:04, 38.1MB/s]\n",
            " 65%|██████▌   | 299M/458M [00:08<00:04, 38.2MB/s]\n",
            " 66%|██████▌   | 303M/458M [00:09<00:04, 38.3MB/s]\n",
            " 67%|██████▋   | 307M/458M [00:09<00:04, 38.3MB/s]\n",
            " 68%|██████▊   | 311M/458M [00:09<00:04, 37.8MB/s]\n",
            " 69%|██████▉   | 315M/458M [00:09<00:03, 37.8MB/s]\n",
            " 70%|██████▉   | 319M/458M [00:09<00:03, 37.1MB/s]\n",
            " 71%|███████   | 323M/458M [00:09<00:03, 37.6MB/s]\n",
            " 71%|███████▏  | 327M/458M [00:09<00:03, 37.8MB/s]\n",
            " 72%|███████▏  | 331M/458M [00:09<00:03, 37.8MB/s]\n",
            " 73%|███████▎  | 335M/458M [00:09<00:03, 38.0MB/s]\n",
            " 74%|███████▍  | 339M/458M [00:10<00:03, 38.1MB/s]\n",
            " 75%|███████▍  | 343M/458M [00:10<00:03, 38.1MB/s]\n",
            " 76%|███████▌  | 347M/458M [00:10<00:04, 27.6MB/s]\n",
            " 77%|███████▋  | 351M/458M [00:10<00:03, 29.6MB/s]\n",
            " 78%|███████▊  | 355M/458M [00:10<00:03, 31.9MB/s]\n",
            " 78%|███████▊  | 359M/458M [00:10<00:03, 33.5MB/s]\n",
            " 79%|███████▉  | 363M/458M [00:10<00:02, 34.9MB/s]\n",
            " 80%|████████  | 367M/458M [00:10<00:02, 35.7MB/s]\n",
            " 81%|████████  | 371M/458M [00:11<00:02, 36.5MB/s]\n",
            " 82%|████████▏ | 375M/458M [00:11<00:02, 37.1MB/s]\n",
            " 83%|████████▎ | 379M/458M [00:11<00:02, 37.5MB/s]\n",
            " 84%|████████▎ | 383M/458M [00:11<00:02, 37.7MB/s]\n",
            " 85%|████████▍ | 387M/458M [00:11<00:02, 37.1MB/s]\n",
            " 85%|████████▌ | 391M/458M [00:11<00:01, 37.5MB/s]\n",
            " 86%|████████▋ | 395M/458M [00:11<00:01, 37.8MB/s]\n",
            " 87%|████████▋ | 399M/458M [00:11<00:01, 38.0MB/s]\n",
            " 88%|████████▊ | 403M/458M [00:11<00:01, 38.0MB/s]\n",
            " 89%|████████▉ | 407M/458M [00:12<00:01, 38.2MB/s]\n",
            " 90%|████████▉ | 411M/458M [00:12<00:01, 38.3MB/s]\n",
            " 91%|█████████ | 415M/458M [00:12<00:01, 38.3MB/s]\n",
            " 92%|█████████▏| 419M/458M [00:12<00:01, 38.3MB/s]\n",
            " 92%|█████████▏| 423M/458M [00:12<00:00, 37.4MB/s]\n",
            " 93%|█████████▎| 427M/458M [00:12<00:00, 37.7MB/s]\n",
            " 94%|█████████▍| 431M/458M [00:12<00:00, 37.9MB/s]\n",
            " 95%|█████████▌| 435M/458M [00:12<00:00, 38.1MB/s]\n",
            " 96%|█████████▌| 439M/458M [00:12<00:00, 38.2MB/s]\n",
            " 97%|█████████▋| 443M/458M [00:13<00:00, 38.3MB/s]\n",
            " 98%|█████████▊| 447M/458M [00:13<00:00, 38.3MB/s]\n",
            " 99%|█████████▊| 451M/458M [00:13<00:00, 37.2MB/s]\n",
            " 99%|█████████▉| 455M/458M [00:13<00:00, 37.3MB/s]\n",
            "100%|██████████| 458M/458M [00:13<00:00, 35.5MB/s]\n"
          ]
        }
      ],
      "source": [
        "!kaggle competitions download -c ml2022spring-hw2"
      ]
    },
    {
      "cell_type": "markdown",
      "metadata": {
        "id": "_L_4anls8Drv"
      },
      "source": [
        "### Preparing Data"
      ]
    },
    {
      "cell_type": "markdown",
      "metadata": {
        "id": "po4N3C-AWuWl"
      },
      "source": [
        "**Helper functions to pre-process the training data from raw MFCC features of each utterance.**\n",
        "\n",
        "A phoneme may span several frames and is dependent to past and future frames. \\\n",
        "Hence we concatenate neighboring phonemes for training to achieve higher accuracy. The **concat_feat** function concatenates past and future k frames (total 2k+1 = n frames), and we predict the center frame.\n",
        "\n",
        "Feel free to modify the data preprocess functions, but **do not drop any frame** (if you modify the functions, remember to check that the number of frames are the same as mentioned in the slides)"
      ]
    },
    {
      "cell_type": "code",
      "execution_count": 1,
      "metadata": {
        "id": "IJjLT8em-y9G"
      },
      "outputs": [],
      "source": [
        "import os\n",
        "import random\n",
        "import pandas as pd\n",
        "import torch\n",
        "from tqdm import tqdm\n",
        "import numpy as np"
      ]
    },
    {
      "cell_type": "code",
      "execution_count": 2,
      "metadata": {},
      "outputs": [],
      "source": [
        "# Import Utils via util.py\n",
        "# import util\n",
        "# import importlib\n",
        "# importlib.reload(util)\n",
        "from util import *"
      ]
    },
    {
      "cell_type": "markdown",
      "metadata": {
        "id": "us5XW_x6udZQ"
      },
      "source": [
        "## Define Dataset"
      ]
    },
    {
      "cell_type": "code",
      "execution_count": 3,
      "metadata": {
        "id": "Fjf5EcmJtf4e"
      },
      "outputs": [],
      "source": [
        "import torch\n",
        "from torch.utils.data import Dataset\n",
        "from torch.utils.data import DataLoader\n",
        "\n",
        "class LibriDataset(Dataset):\n",
        "    def __init__(self, X, y=None):\n",
        "        self.data = X\n",
        "        if y is not None:\n",
        "            self.label = torch.LongTensor(y)\n",
        "        else:\n",
        "            self.label = None\n",
        "\n",
        "    def __getitem__(self, idx):\n",
        "        if self.label is not None:\n",
        "            return self.data[idx], self.label[idx]\n",
        "        else:\n",
        "            return self.data[idx]\n",
        "\n",
        "    def __len__(self):\n",
        "        return len(self.data)\n"
      ]
    },
    {
      "cell_type": "markdown",
      "metadata": {
        "id": "IRqKNvNZwe3V"
      },
      "source": [
        "## Define Model\n",
        "Via model.py"
      ]
    },
    {
      "cell_type": "code",
      "execution_count": 4,
      "metadata": {},
      "outputs": [],
      "source": [
        "import torch\n",
        "import torch.nn as nn\n",
        "import torch.nn.functional as F"
      ]
    },
    {
      "cell_type": "code",
      "execution_count": 5,
      "metadata": {},
      "outputs": [],
      "source": [
        "# import importlib\n",
        "# import model\n",
        "# importlib.reload(model)\n",
        "from model import *"
      ]
    },
    {
      "cell_type": "markdown",
      "metadata": {
        "id": "TlIq8JeqvvHC"
      },
      "source": [
        "## Hyper-parameters"
      ]
    },
    {
      "cell_type": "code",
      "execution_count": 6,
      "metadata": {
        "id": "iIHn79Iav1ri"
      },
      "outputs": [],
      "source": [
        "# data prarameters\n",
        "concat_nframes = 27              # the number of frames to concat with, n must be odd (total 2k+1 = n frames)\n",
        "train_ratio = 0.8               # the ratio of data used for training, the rest will be used for validation\n",
        "\n",
        "# training parameters\n",
        "seed = 94873                        # random seed\n",
        "batch_size = 1024                # batch size\n",
        "num_epoch = 100                # the number of training epoch\n",
        "learning_rate = 0.001          # learning rate\n",
        "model_path = './model.ckpt'     # the path where the checkpoint will be saved\n",
        "\n",
        "# model parameters\n",
        "input_dim = 39 * concat_nframes # the input dim of the model, you should not change the value\n",
        "hidden_layers = 7               # the number of hidden layers\n",
        "hidden_dim = 512                # the hidden dim\n",
        "dropout_rate = 0.25              # define dropout rate"
      ]
    },
    {
      "cell_type": "markdown",
      "metadata": {
        "id": "IIUFRgG5yoDn"
      },
      "source": [
        "## Prepare dataset and model"
      ]
    },
    {
      "cell_type": "code",
      "execution_count": 7,
      "metadata": {
        "colab": {
          "base_uri": "https://localhost:8080/"
        },
        "id": "c1zI3v5jyrDn",
        "outputId": "3ea2823a-83f3-42d9-ef05-2f2c002f9538"
      },
      "outputs": [
        {
          "name": "stdout",
          "output_type": "stream",
          "text": [
            "[Dataset] - # phone classes: 41, number of utterances for train: 3428\n"
          ]
        },
        {
          "name": "stderr",
          "output_type": "stream",
          "text": [
            "3428it [00:57, 59.23it/s]\n"
          ]
        },
        {
          "name": "stdout",
          "output_type": "stream",
          "text": [
            "[INFO] train set\n",
            "torch.Size([2116368, 1053])\n",
            "torch.Size([2116368])\n",
            "[Dataset] - # phone classes: 41, number of utterances for val: 858\n"
          ]
        },
        {
          "name": "stderr",
          "output_type": "stream",
          "text": [
            "858it [00:16, 52.63it/s]"
          ]
        },
        {
          "name": "stdout",
          "output_type": "stream",
          "text": [
            "[INFO] val set\n",
            "torch.Size([527790, 1053])\n",
            "torch.Size([527790])\n"
          ]
        },
        {
          "name": "stderr",
          "output_type": "stream",
          "text": [
            "\n"
          ]
        }
      ],
      "source": [
        "import gc\n",
        "\n",
        "# preprocess data\n",
        "train_X, train_y = preprocess_data(split='train', feat_dir='./libriphone/feat', phone_path='./libriphone', concat_nframes=concat_nframes, train_ratio=train_ratio)\n",
        "val_X, val_y = preprocess_data(split='val', feat_dir='./libriphone/feat', phone_path='./libriphone', concat_nframes=concat_nframes, train_ratio=train_ratio)\n",
        "\n",
        "# get dataset\n",
        "train_set = LibriDataset(train_X, train_y)\n",
        "val_set = LibriDataset(val_X, val_y)\n",
        "\n",
        "# remove raw feature to save memory\n",
        "del train_X, train_y, val_X, val_y\n",
        "gc.collect()\n",
        "\n",
        "# get dataloader\n",
        "train_loader = DataLoader(train_set, batch_size=batch_size, shuffle=True)\n",
        "val_loader = DataLoader(val_set, batch_size=batch_size, shuffle=False)"
      ]
    },
    {
      "cell_type": "code",
      "execution_count": 8,
      "metadata": {
        "colab": {
          "base_uri": "https://localhost:8080/"
        },
        "id": "CfRUEgC0GxUV",
        "outputId": "f9804711-72b1-4717-896b-821a300cfe87"
      },
      "outputs": [
        {
          "name": "stdout",
          "output_type": "stream",
          "text": [
            "DEVICE: cuda:0\n"
          ]
        }
      ],
      "source": [
        "device = 'cuda:0' if torch.cuda.is_available() else 'cpu'\n",
        "print(f'DEVICE: {device}')\n",
        "\n",
        "# fix random seed\n",
        "same_seeds(seed)"
      ]
    },
    {
      "cell_type": "code",
      "execution_count": 9,
      "metadata": {
        "id": "QTp3ZXg1yO9Y"
      },
      "outputs": [],
      "source": [
        "# create model, define a loss function, and optimizer\n",
        "model = Classifier(input_dim=input_dim, hidden_layers=hidden_layers, hidden_dim=hidden_dim, dropout_rate=dropout_rate).to(device)\n",
        "criterion = nn.CrossEntropyLoss() \n",
        "optimizer = torch.optim.AdamW(model.parameters(), lr=learning_rate)"
      ]
    },
    {
      "cell_type": "markdown",
      "metadata": {
        "id": "pwWH1KIqzxEr"
      },
      "source": [
        "## Training"
      ]
    },
    {
      "cell_type": "code",
      "execution_count": 10,
      "metadata": {
        "colab": {
          "base_uri": "https://localhost:8080/"
        },
        "id": "CdMWsBs7zzNs",
        "outputId": "17922ad2-a319-4253-8783-3e4939d0a7cf"
      },
      "outputs": [
        {
          "name": "stderr",
          "output_type": "stream",
          "text": [
            "100%|██████████| 2067/2067 [01:01<00:00, 33.76it/s]\n",
            "100%|██████████| 516/516 [00:05<00:00, 88.54it/s]\n"
          ]
        },
        {
          "name": "stdout",
          "output_type": "stream",
          "text": [
            "[001/100] Train Acc: 0.598848 Loss: 1.333314 | Val Acc: 0.669876 loss: 1.062176\n",
            "saving model with acc 0.670\n"
          ]
        },
        {
          "name": "stderr",
          "output_type": "stream",
          "text": [
            "100%|██████████| 2067/2067 [00:46<00:00, 44.63it/s]\n",
            "100%|██████████| 516/516 [00:05<00:00, 95.43it/s] \n"
          ]
        },
        {
          "name": "stdout",
          "output_type": "stream",
          "text": [
            "[002/100] Train Acc: 0.662474 Loss: 1.098703 | Val Acc: 0.696777 loss: 0.967313\n",
            "saving model with acc 0.697\n"
          ]
        },
        {
          "name": "stderr",
          "output_type": "stream",
          "text": [
            "100%|██████████| 2067/2067 [00:45<00:00, 45.02it/s]\n",
            "100%|██████████| 516/516 [00:05<00:00, 91.57it/s]\n"
          ]
        },
        {
          "name": "stdout",
          "output_type": "stream",
          "text": [
            "[003/100] Train Acc: 0.685292 Loss: 1.018353 | Val Acc: 0.711592 loss: 0.919490\n",
            "saving model with acc 0.712\n"
          ]
        },
        {
          "name": "stderr",
          "output_type": "stream",
          "text": [
            "100%|██████████| 2067/2067 [00:45<00:00, 45.02it/s]\n",
            "100%|██████████| 516/516 [00:05<00:00, 92.48it/s] \n"
          ]
        },
        {
          "name": "stdout",
          "output_type": "stream",
          "text": [
            "[004/100] Train Acc: 0.700058 Loss: 0.967429 | Val Acc: 0.720421 loss: 0.890443\n",
            "saving model with acc 0.720\n"
          ]
        },
        {
          "name": "stderr",
          "output_type": "stream",
          "text": [
            "100%|██████████| 2067/2067 [00:45<00:00, 44.95it/s]\n",
            "100%|██████████| 516/516 [00:05<00:00, 91.25it/s] \n"
          ]
        },
        {
          "name": "stdout",
          "output_type": "stream",
          "text": [
            "[005/100] Train Acc: 0.710892 Loss: 0.929796 | Val Acc: 0.726276 loss: 0.869465\n",
            "saving model with acc 0.726\n"
          ]
        },
        {
          "name": "stderr",
          "output_type": "stream",
          "text": [
            "100%|██████████| 2067/2067 [00:47<00:00, 43.57it/s]\n",
            "100%|██████████| 516/516 [00:05<00:00, 87.13it/s]\n"
          ]
        },
        {
          "name": "stdout",
          "output_type": "stream",
          "text": [
            "[006/100] Train Acc: 0.719242 Loss: 0.901294 | Val Acc: 0.731503 loss: 0.851553\n",
            "saving model with acc 0.732\n"
          ]
        },
        {
          "name": "stderr",
          "output_type": "stream",
          "text": [
            "100%|██████████| 2067/2067 [00:46<00:00, 44.49it/s]\n",
            "100%|██████████| 516/516 [00:05<00:00, 92.72it/s] \n"
          ]
        },
        {
          "name": "stdout",
          "output_type": "stream",
          "text": [
            "[007/100] Train Acc: 0.726156 Loss: 0.877532 | Val Acc: 0.735296 loss: 0.840448\n",
            "saving model with acc 0.735\n"
          ]
        },
        {
          "name": "stderr",
          "output_type": "stream",
          "text": [
            "100%|██████████| 2067/2067 [00:48<00:00, 42.67it/s]\n",
            "100%|██████████| 516/516 [00:06<00:00, 84.35it/s]\n"
          ]
        },
        {
          "name": "stdout",
          "output_type": "stream",
          "text": [
            "[008/100] Train Acc: 0.731958 Loss: 0.857423 | Val Acc: 0.739199 loss: 0.829032\n",
            "saving model with acc 0.739\n"
          ]
        },
        {
          "name": "stderr",
          "output_type": "stream",
          "text": [
            "100%|██████████| 2067/2067 [00:47<00:00, 43.27it/s]\n",
            "100%|██████████| 516/516 [00:05<00:00, 90.42it/s]\n"
          ]
        },
        {
          "name": "stdout",
          "output_type": "stream",
          "text": [
            "[009/100] Train Acc: 0.737071 Loss: 0.839739 | Val Acc: 0.740772 loss: 0.824909\n",
            "saving model with acc 0.741\n"
          ]
        },
        {
          "name": "stderr",
          "output_type": "stream",
          "text": [
            "100%|██████████| 2067/2067 [00:47<00:00, 43.48it/s]\n",
            "100%|██████████| 516/516 [00:05<00:00, 92.30it/s] \n"
          ]
        },
        {
          "name": "stdout",
          "output_type": "stream",
          "text": [
            "[010/100] Train Acc: 0.741073 Loss: 0.825245 | Val Acc: 0.742809 loss: 0.818420\n",
            "saving model with acc 0.743\n"
          ]
        },
        {
          "name": "stderr",
          "output_type": "stream",
          "text": [
            "100%|██████████| 2067/2067 [00:46<00:00, 44.50it/s]\n",
            "100%|██████████| 516/516 [00:06<00:00, 85.37it/s]\n"
          ]
        },
        {
          "name": "stdout",
          "output_type": "stream",
          "text": [
            "[011/100] Train Acc: 0.744808 Loss: 0.812005 | Val Acc: 0.744948 loss: 0.815798\n",
            "saving model with acc 0.745\n"
          ]
        },
        {
          "name": "stderr",
          "output_type": "stream",
          "text": [
            "100%|██████████| 2067/2067 [00:47<00:00, 43.09it/s]\n",
            "100%|██████████| 516/516 [00:05<00:00, 91.37it/s] \n"
          ]
        },
        {
          "name": "stdout",
          "output_type": "stream",
          "text": [
            "[012/100] Train Acc: 0.748231 Loss: 0.800784 | Val Acc: 0.744844 loss: 0.813759\n"
          ]
        },
        {
          "name": "stderr",
          "output_type": "stream",
          "text": [
            "100%|██████████| 2067/2067 [00:47<00:00, 43.82it/s]\n",
            "100%|██████████| 516/516 [00:05<00:00, 90.42it/s] \n"
          ]
        },
        {
          "name": "stdout",
          "output_type": "stream",
          "text": [
            "[013/100] Train Acc: 0.751443 Loss: 0.790017 | Val Acc: 0.747282 loss: 0.807486\n",
            "saving model with acc 0.747\n"
          ]
        },
        {
          "name": "stderr",
          "output_type": "stream",
          "text": [
            "100%|██████████| 2067/2067 [00:47<00:00, 43.73it/s]\n",
            "100%|██████████| 516/516 [00:06<00:00, 84.52it/s]\n"
          ]
        },
        {
          "name": "stdout",
          "output_type": "stream",
          "text": [
            "[014/100] Train Acc: 0.754332 Loss: 0.779678 | Val Acc: 0.747485 loss: 0.804855\n",
            "saving model with acc 0.747\n"
          ]
        },
        {
          "name": "stderr",
          "output_type": "stream",
          "text": [
            "100%|██████████| 2067/2067 [00:47<00:00, 43.61it/s]\n",
            "100%|██████████| 516/516 [00:05<00:00, 89.93it/s] \n"
          ]
        },
        {
          "name": "stdout",
          "output_type": "stream",
          "text": [
            "[015/100] Train Acc: 0.756650 Loss: 0.771822 | Val Acc: 0.749448 loss: 0.803173\n",
            "saving model with acc 0.749\n"
          ]
        },
        {
          "name": "stderr",
          "output_type": "stream",
          "text": [
            "100%|██████████| 2067/2067 [00:45<00:00, 45.16it/s]\n",
            "100%|██████████| 516/516 [00:05<00:00, 92.67it/s] \n"
          ]
        },
        {
          "name": "stdout",
          "output_type": "stream",
          "text": [
            "[016/100] Train Acc: 0.758894 Loss: 0.764094 | Val Acc: 0.750217 loss: 0.797491\n",
            "saving model with acc 0.750\n"
          ]
        },
        {
          "name": "stderr",
          "output_type": "stream",
          "text": [
            "100%|██████████| 2067/2067 [00:45<00:00, 45.67it/s]\n",
            "100%|██████████| 516/516 [00:05<00:00, 92.37it/s] \n"
          ]
        },
        {
          "name": "stdout",
          "output_type": "stream",
          "text": [
            "[017/100] Train Acc: 0.761031 Loss: 0.756410 | Val Acc: 0.750886 loss: 0.797706\n",
            "saving model with acc 0.751\n"
          ]
        },
        {
          "name": "stderr",
          "output_type": "stream",
          "text": [
            "100%|██████████| 2067/2067 [00:45<00:00, 45.69it/s]\n",
            "100%|██████████| 516/516 [00:05<00:00, 93.39it/s] \n"
          ]
        },
        {
          "name": "stdout",
          "output_type": "stream",
          "text": [
            "[018/100] Train Acc: 0.763582 Loss: 0.749521 | Val Acc: 0.750393 loss: 0.799965\n"
          ]
        },
        {
          "name": "stderr",
          "output_type": "stream",
          "text": [
            "100%|██████████| 2067/2067 [00:45<00:00, 45.54it/s]\n",
            "100%|██████████| 516/516 [00:05<00:00, 94.16it/s] \n"
          ]
        },
        {
          "name": "stdout",
          "output_type": "stream",
          "text": [
            "[019/100] Train Acc: 0.765126 Loss: 0.742952 | Val Acc: 0.752350 loss: 0.793184\n",
            "saving model with acc 0.752\n"
          ]
        },
        {
          "name": "stderr",
          "output_type": "stream",
          "text": [
            "100%|██████████| 2067/2067 [00:45<00:00, 45.46it/s]\n",
            "100%|██████████| 516/516 [00:05<00:00, 91.93it/s] \n"
          ]
        },
        {
          "name": "stdout",
          "output_type": "stream",
          "text": [
            "[020/100] Train Acc: 0.766754 Loss: 0.737540 | Val Acc: 0.753754 loss: 0.791849\n",
            "saving model with acc 0.754\n"
          ]
        },
        {
          "name": "stderr",
          "output_type": "stream",
          "text": [
            "100%|██████████| 2067/2067 [00:45<00:00, 45.58it/s]\n",
            "100%|██████████| 516/516 [00:05<00:00, 93.37it/s] \n"
          ]
        },
        {
          "name": "stdout",
          "output_type": "stream",
          "text": [
            "[021/100] Train Acc: 0.768233 Loss: 0.732273 | Val Acc: 0.752661 loss: 0.793887\n"
          ]
        },
        {
          "name": "stderr",
          "output_type": "stream",
          "text": [
            "100%|██████████| 2067/2067 [00:45<00:00, 45.59it/s]\n",
            "100%|██████████| 516/516 [00:05<00:00, 95.22it/s] \n"
          ]
        },
        {
          "name": "stdout",
          "output_type": "stream",
          "text": [
            "[022/100] Train Acc: 0.769865 Loss: 0.726642 | Val Acc: 0.753245 loss: 0.791942\n"
          ]
        },
        {
          "name": "stderr",
          "output_type": "stream",
          "text": [
            "100%|██████████| 2067/2067 [00:45<00:00, 45.67it/s]\n",
            "100%|██████████| 516/516 [00:05<00:00, 91.81it/s] \n"
          ]
        },
        {
          "name": "stdout",
          "output_type": "stream",
          "text": [
            "[023/100] Train Acc: 0.770992 Loss: 0.721649 | Val Acc: 0.754586 loss: 0.789863\n",
            "saving model with acc 0.755\n"
          ]
        },
        {
          "name": "stderr",
          "output_type": "stream",
          "text": [
            "100%|██████████| 2067/2067 [00:45<00:00, 45.65it/s]\n",
            "100%|██████████| 516/516 [00:05<00:00, 93.58it/s] \n"
          ]
        },
        {
          "name": "stdout",
          "output_type": "stream",
          "text": [
            "[024/100] Train Acc: 0.772490 Loss: 0.717560 | Val Acc: 0.754673 loss: 0.788685\n",
            "saving model with acc 0.755\n"
          ]
        },
        {
          "name": "stderr",
          "output_type": "stream",
          "text": [
            "100%|██████████| 2067/2067 [00:45<00:00, 45.51it/s]\n",
            "100%|██████████| 516/516 [00:05<00:00, 93.36it/s] \n"
          ]
        },
        {
          "name": "stdout",
          "output_type": "stream",
          "text": [
            "[025/100] Train Acc: 0.774308 Loss: 0.712559 | Val Acc: 0.755126 loss: 0.790469\n",
            "saving model with acc 0.755\n"
          ]
        },
        {
          "name": "stderr",
          "output_type": "stream",
          "text": [
            "100%|██████████| 2067/2067 [00:45<00:00, 45.14it/s]\n",
            "100%|██████████| 516/516 [00:05<00:00, 91.99it/s] \n"
          ]
        },
        {
          "name": "stdout",
          "output_type": "stream",
          "text": [
            "[026/100] Train Acc: 0.775206 Loss: 0.708200 | Val Acc: 0.755624 loss: 0.790739\n",
            "saving model with acc 0.756\n"
          ]
        },
        {
          "name": "stderr",
          "output_type": "stream",
          "text": [
            "100%|██████████| 2067/2067 [00:45<00:00, 45.55it/s]\n",
            "100%|██████████| 516/516 [00:05<00:00, 93.99it/s] \n"
          ]
        },
        {
          "name": "stdout",
          "output_type": "stream",
          "text": [
            "[027/100] Train Acc: 0.776222 Loss: 0.704986 | Val Acc: 0.755592 loss: 0.791029\n"
          ]
        },
        {
          "name": "stderr",
          "output_type": "stream",
          "text": [
            "100%|██████████| 2067/2067 [00:45<00:00, 45.47it/s]\n",
            "100%|██████████| 516/516 [00:05<00:00, 93.58it/s] \n"
          ]
        },
        {
          "name": "stdout",
          "output_type": "stream",
          "text": [
            "[028/100] Train Acc: 0.777343 Loss: 0.700871 | Val Acc: 0.755952 loss: 0.786724\n",
            "saving model with acc 0.756\n"
          ]
        },
        {
          "name": "stderr",
          "output_type": "stream",
          "text": [
            "100%|██████████| 2067/2067 [00:45<00:00, 45.58it/s]\n",
            "100%|██████████| 516/516 [00:05<00:00, 92.45it/s] \n"
          ]
        },
        {
          "name": "stdout",
          "output_type": "stream",
          "text": [
            "[029/100] Train Acc: 0.778479 Loss: 0.697372 | Val Acc: 0.756706 loss: 0.787310\n",
            "saving model with acc 0.757\n"
          ]
        },
        {
          "name": "stderr",
          "output_type": "stream",
          "text": [
            "100%|██████████| 2067/2067 [00:45<00:00, 45.46it/s]\n",
            "100%|██████████| 516/516 [00:05<00:00, 94.04it/s] \n"
          ]
        },
        {
          "name": "stdout",
          "output_type": "stream",
          "text": [
            "[030/100] Train Acc: 0.778914 Loss: 0.695165 | Val Acc: 0.755802 loss: 0.788074\n"
          ]
        },
        {
          "name": "stderr",
          "output_type": "stream",
          "text": [
            "100%|██████████| 2067/2067 [00:45<00:00, 45.28it/s]\n",
            "100%|██████████| 516/516 [00:05<00:00, 92.57it/s] \n"
          ]
        },
        {
          "name": "stdout",
          "output_type": "stream",
          "text": [
            "[031/100] Train Acc: 0.780115 Loss: 0.690792 | Val Acc: 0.756532 loss: 0.788731\n"
          ]
        },
        {
          "name": "stderr",
          "output_type": "stream",
          "text": [
            "100%|██████████| 2067/2067 [00:45<00:00, 45.40it/s]\n",
            "100%|██████████| 516/516 [00:05<00:00, 92.62it/s] \n"
          ]
        },
        {
          "name": "stdout",
          "output_type": "stream",
          "text": [
            "[032/100] Train Acc: 0.781494 Loss: 0.687143 | Val Acc: 0.756521 loss: 0.787087\n"
          ]
        },
        {
          "name": "stderr",
          "output_type": "stream",
          "text": [
            "100%|██████████| 2067/2067 [00:45<00:00, 45.81it/s]\n",
            "100%|██████████| 516/516 [00:05<00:00, 99.04it/s] \n"
          ]
        },
        {
          "name": "stdout",
          "output_type": "stream",
          "text": [
            "[033/100] Train Acc: 0.782226 Loss: 0.684179 | Val Acc: 0.756953 loss: 0.787831\n",
            "saving model with acc 0.757\n"
          ]
        },
        {
          "name": "stderr",
          "output_type": "stream",
          "text": [
            "100%|██████████| 2067/2067 [00:43<00:00, 47.70it/s]\n",
            "100%|██████████| 516/516 [00:05<00:00, 99.44it/s] \n"
          ]
        },
        {
          "name": "stdout",
          "output_type": "stream",
          "text": [
            "[034/100] Train Acc: 0.783293 Loss: 0.681779 | Val Acc: 0.757458 loss: 0.784187\n",
            "saving model with acc 0.757\n"
          ]
        },
        {
          "name": "stderr",
          "output_type": "stream",
          "text": [
            "100%|██████████| 2067/2067 [00:43<00:00, 47.97it/s]\n",
            "100%|██████████| 516/516 [00:05<00:00, 98.23it/s] \n"
          ]
        },
        {
          "name": "stdout",
          "output_type": "stream",
          "text": [
            "[035/100] Train Acc: 0.783428 Loss: 0.678975 | Val Acc: 0.757546 loss: 0.787423\n",
            "saving model with acc 0.758\n"
          ]
        },
        {
          "name": "stderr",
          "output_type": "stream",
          "text": [
            "100%|██████████| 2067/2067 [00:43<00:00, 47.96it/s]\n",
            "100%|██████████| 516/516 [00:05<00:00, 100.37it/s]\n"
          ]
        },
        {
          "name": "stdout",
          "output_type": "stream",
          "text": [
            "[036/100] Train Acc: 0.784865 Loss: 0.675594 | Val Acc: 0.757261 loss: 0.787601\n"
          ]
        },
        {
          "name": "stderr",
          "output_type": "stream",
          "text": [
            "100%|██████████| 2067/2067 [00:43<00:00, 47.94it/s]\n",
            "100%|██████████| 516/516 [00:05<00:00, 99.25it/s] \n"
          ]
        },
        {
          "name": "stdout",
          "output_type": "stream",
          "text": [
            "[037/100] Train Acc: 0.784547 Loss: 0.674589 | Val Acc: 0.758084 loss: 0.784686\n",
            "saving model with acc 0.758\n"
          ]
        },
        {
          "name": "stderr",
          "output_type": "stream",
          "text": [
            "100%|██████████| 2067/2067 [00:43<00:00, 47.87it/s]\n",
            "100%|██████████| 516/516 [00:05<00:00, 96.93it/s] \n"
          ]
        },
        {
          "name": "stdout",
          "output_type": "stream",
          "text": [
            "[038/100] Train Acc: 0.785889 Loss: 0.672746 | Val Acc: 0.758548 loss: 0.787054\n",
            "saving model with acc 0.759\n"
          ]
        },
        {
          "name": "stderr",
          "output_type": "stream",
          "text": [
            "100%|██████████| 2067/2067 [00:43<00:00, 47.97it/s]\n",
            "100%|██████████| 516/516 [00:05<00:00, 98.90it/s] \n"
          ]
        },
        {
          "name": "stdout",
          "output_type": "stream",
          "text": [
            "[039/100] Train Acc: 0.786746 Loss: 0.669067 | Val Acc: 0.758131 loss: 0.787569\n"
          ]
        },
        {
          "name": "stderr",
          "output_type": "stream",
          "text": [
            "100%|██████████| 2067/2067 [00:43<00:00, 47.88it/s]\n",
            "100%|██████████| 516/516 [00:05<00:00, 99.04it/s] \n"
          ]
        },
        {
          "name": "stdout",
          "output_type": "stream",
          "text": [
            "[040/100] Train Acc: 0.787444 Loss: 0.667757 | Val Acc: 0.757769 loss: 0.789628\n"
          ]
        },
        {
          "name": "stderr",
          "output_type": "stream",
          "text": [
            "100%|██████████| 2067/2067 [00:43<00:00, 47.98it/s]\n",
            "100%|██████████| 516/516 [00:05<00:00, 96.97it/s] \n"
          ]
        },
        {
          "name": "stdout",
          "output_type": "stream",
          "text": [
            "[041/100] Train Acc: 0.787376 Loss: 0.666217 | Val Acc: 0.758158 loss: 0.787653\n"
          ]
        },
        {
          "name": "stderr",
          "output_type": "stream",
          "text": [
            "100%|██████████| 2067/2067 [00:43<00:00, 47.89it/s]\n",
            "100%|██████████| 516/516 [00:05<00:00, 99.40it/s] \n"
          ]
        },
        {
          "name": "stdout",
          "output_type": "stream",
          "text": [
            "[042/100] Train Acc: 0.788385 Loss: 0.663196 | Val Acc: 0.758466 loss: 0.782665\n"
          ]
        },
        {
          "name": "stderr",
          "output_type": "stream",
          "text": [
            "100%|██████████| 2067/2067 [00:43<00:00, 47.83it/s]\n",
            "100%|██████████| 516/516 [00:05<00:00, 99.08it/s] \n"
          ]
        },
        {
          "name": "stdout",
          "output_type": "stream",
          "text": [
            "[043/100] Train Acc: 0.789100 Loss: 0.660762 | Val Acc: 0.757525 loss: 0.787040\n"
          ]
        },
        {
          "name": "stderr",
          "output_type": "stream",
          "text": [
            "100%|██████████| 2067/2067 [00:43<00:00, 47.89it/s]\n",
            "100%|██████████| 516/516 [00:05<00:00, 96.93it/s] \n"
          ]
        },
        {
          "name": "stdout",
          "output_type": "stream",
          "text": [
            "[044/100] Train Acc: 0.788953 Loss: 0.659648 | Val Acc: 0.758527 loss: 0.785646\n"
          ]
        },
        {
          "name": "stderr",
          "output_type": "stream",
          "text": [
            "100%|██████████| 2067/2067 [00:44<00:00, 46.22it/s]\n",
            "100%|██████████| 516/516 [00:05<00:00, 91.76it/s] \n"
          ]
        },
        {
          "name": "stdout",
          "output_type": "stream",
          "text": [
            "[045/100] Train Acc: 0.790085 Loss: 0.657593 | Val Acc: 0.758584 loss: 0.788285\n",
            "saving model with acc 0.759\n"
          ]
        },
        {
          "name": "stderr",
          "output_type": "stream",
          "text": [
            "100%|██████████| 2067/2067 [00:47<00:00, 43.63it/s]\n",
            "100%|██████████| 516/516 [00:05<00:00, 89.97it/s] \n"
          ]
        },
        {
          "name": "stdout",
          "output_type": "stream",
          "text": [
            "[046/100] Train Acc: 0.790469 Loss: 0.655943 | Val Acc: 0.759535 loss: 0.782408\n",
            "saving model with acc 0.760\n"
          ]
        },
        {
          "name": "stderr",
          "output_type": "stream",
          "text": [
            "100%|██████████| 2067/2067 [00:46<00:00, 44.53it/s]\n",
            "100%|██████████| 516/516 [00:05<00:00, 89.79it/s]\n"
          ]
        },
        {
          "name": "stdout",
          "output_type": "stream",
          "text": [
            "[047/100] Train Acc: 0.791189 Loss: 0.653603 | Val Acc: 0.759228 loss: 0.784095\n"
          ]
        },
        {
          "name": "stderr",
          "output_type": "stream",
          "text": [
            "100%|██████████| 2067/2067 [00:45<00:00, 45.06it/s]\n",
            "100%|██████████| 516/516 [00:05<00:00, 92.95it/s] \n"
          ]
        },
        {
          "name": "stdout",
          "output_type": "stream",
          "text": [
            "[048/100] Train Acc: 0.791565 Loss: 0.651885 | Val Acc: 0.759257 loss: 0.783971\n"
          ]
        },
        {
          "name": "stderr",
          "output_type": "stream",
          "text": [
            "100%|██████████| 2067/2067 [00:45<00:00, 45.20it/s]\n",
            "100%|██████████| 516/516 [00:05<00:00, 91.56it/s] \n"
          ]
        },
        {
          "name": "stdout",
          "output_type": "stream",
          "text": [
            "[049/100] Train Acc: 0.791462 Loss: 0.651041 | Val Acc: 0.759651 loss: 0.786907\n",
            "saving model with acc 0.760\n"
          ]
        },
        {
          "name": "stderr",
          "output_type": "stream",
          "text": [
            "100%|██████████| 2067/2067 [00:46<00:00, 44.88it/s]\n",
            "100%|██████████| 516/516 [00:05<00:00, 87.44it/s]\n"
          ]
        },
        {
          "name": "stdout",
          "output_type": "stream",
          "text": [
            "[050/100] Train Acc: 0.792164 Loss: 0.650152 | Val Acc: 0.759416 loss: 0.785085\n"
          ]
        },
        {
          "name": "stderr",
          "output_type": "stream",
          "text": [
            "100%|██████████| 2067/2067 [00:46<00:00, 44.01it/s]\n",
            "100%|██████████| 516/516 [00:05<00:00, 91.01it/s] \n"
          ]
        },
        {
          "name": "stdout",
          "output_type": "stream",
          "text": [
            "[051/100] Train Acc: 0.792799 Loss: 0.647290 | Val Acc: 0.759090 loss: 0.784245\n"
          ]
        },
        {
          "name": "stderr",
          "output_type": "stream",
          "text": [
            "100%|██████████| 2067/2067 [00:46<00:00, 44.53it/s]\n",
            "100%|██████████| 516/516 [00:05<00:00, 93.01it/s] \n"
          ]
        },
        {
          "name": "stdout",
          "output_type": "stream",
          "text": [
            "[052/100] Train Acc: 0.793165 Loss: 0.646450 | Val Acc: 0.759313 loss: 0.784837\n"
          ]
        },
        {
          "name": "stderr",
          "output_type": "stream",
          "text": [
            "100%|██████████| 2067/2067 [00:45<00:00, 45.02it/s]\n",
            "100%|██████████| 516/516 [00:05<00:00, 89.25it/s]\n"
          ]
        },
        {
          "name": "stdout",
          "output_type": "stream",
          "text": [
            "[053/100] Train Acc: 0.793411 Loss: 0.645586 | Val Acc: 0.759264 loss: 0.785348\n"
          ]
        },
        {
          "name": "stderr",
          "output_type": "stream",
          "text": [
            "100%|██████████| 2067/2067 [00:47<00:00, 43.85it/s]\n",
            "100%|██████████| 516/516 [00:05<00:00, 86.50it/s]\n"
          ]
        },
        {
          "name": "stdout",
          "output_type": "stream",
          "text": [
            "[054/100] Train Acc: 0.793873 Loss: 0.643822 | Val Acc: 0.759956 loss: 0.784373\n",
            "saving model with acc 0.760\n"
          ]
        },
        {
          "name": "stderr",
          "output_type": "stream",
          "text": [
            "100%|██████████| 2067/2067 [00:47<00:00, 43.28it/s]\n",
            "100%|██████████| 516/516 [00:05<00:00, 91.31it/s] \n"
          ]
        },
        {
          "name": "stdout",
          "output_type": "stream",
          "text": [
            "[055/100] Train Acc: 0.794525 Loss: 0.642228 | Val Acc: 0.759815 loss: 0.785188\n"
          ]
        },
        {
          "name": "stderr",
          "output_type": "stream",
          "text": [
            "100%|██████████| 2067/2067 [00:46<00:00, 44.57it/s]\n",
            "100%|██████████| 516/516 [00:05<00:00, 92.04it/s] \n"
          ]
        },
        {
          "name": "stdout",
          "output_type": "stream",
          "text": [
            "[056/100] Train Acc: 0.795193 Loss: 0.640133 | Val Acc: 0.759535 loss: 0.786967\n"
          ]
        },
        {
          "name": "stderr",
          "output_type": "stream",
          "text": [
            "100%|██████████| 2067/2067 [00:46<00:00, 44.59it/s]\n",
            "100%|██████████| 516/516 [00:05<00:00, 93.49it/s] \n"
          ]
        },
        {
          "name": "stdout",
          "output_type": "stream",
          "text": [
            "[057/100] Train Acc: 0.795027 Loss: 0.640060 | Val Acc: 0.759454 loss: 0.783696\n"
          ]
        },
        {
          "name": "stderr",
          "output_type": "stream",
          "text": [
            "100%|██████████| 2067/2067 [00:45<00:00, 45.00it/s]\n",
            "100%|██████████| 516/516 [00:05<00:00, 91.46it/s] \n"
          ]
        },
        {
          "name": "stdout",
          "output_type": "stream",
          "text": [
            "[058/100] Train Acc: 0.795443 Loss: 0.639359 | Val Acc: 0.760516 loss: 0.788754\n",
            "saving model with acc 0.761\n"
          ]
        },
        {
          "name": "stderr",
          "output_type": "stream",
          "text": [
            "100%|██████████| 2067/2067 [00:48<00:00, 42.82it/s]\n",
            "100%|██████████| 516/516 [00:05<00:00, 87.12it/s]\n"
          ]
        },
        {
          "name": "stdout",
          "output_type": "stream",
          "text": [
            "[059/100] Train Acc: 0.795422 Loss: 0.638153 | Val Acc: 0.759507 loss: 0.788212\n"
          ]
        },
        {
          "name": "stderr",
          "output_type": "stream",
          "text": [
            "100%|██████████| 2067/2067 [00:46<00:00, 44.54it/s]\n",
            "100%|██████████| 516/516 [00:05<00:00, 91.25it/s] \n"
          ]
        },
        {
          "name": "stdout",
          "output_type": "stream",
          "text": [
            "[060/100] Train Acc: 0.796149 Loss: 0.636383 | Val Acc: 0.759264 loss: 0.788113\n"
          ]
        },
        {
          "name": "stderr",
          "output_type": "stream",
          "text": [
            "100%|██████████| 2067/2067 [00:47<00:00, 43.70it/s]\n",
            "100%|██████████| 516/516 [00:05<00:00, 89.05it/s]\n"
          ]
        },
        {
          "name": "stdout",
          "output_type": "stream",
          "text": [
            "[061/100] Train Acc: 0.796522 Loss: 0.635093 | Val Acc: 0.759605 loss: 0.785850\n"
          ]
        },
        {
          "name": "stderr",
          "output_type": "stream",
          "text": [
            "100%|██████████| 2067/2067 [00:45<00:00, 45.23it/s]\n",
            "100%|██████████| 516/516 [00:05<00:00, 89.85it/s] \n"
          ]
        },
        {
          "name": "stdout",
          "output_type": "stream",
          "text": [
            "[062/100] Train Acc: 0.796536 Loss: 0.635011 | Val Acc: 0.759761 loss: 0.787750\n"
          ]
        },
        {
          "name": "stderr",
          "output_type": "stream",
          "text": [
            "100%|██████████| 2067/2067 [00:47<00:00, 43.36it/s]\n",
            "100%|██████████| 516/516 [00:05<00:00, 92.08it/s] \n"
          ]
        },
        {
          "name": "stdout",
          "output_type": "stream",
          "text": [
            "[063/100] Train Acc: 0.797011 Loss: 0.632793 | Val Acc: 0.760147 loss: 0.785884\n"
          ]
        },
        {
          "name": "stderr",
          "output_type": "stream",
          "text": [
            "100%|██████████| 2067/2067 [00:46<00:00, 44.11it/s]\n",
            "100%|██████████| 516/516 [00:05<00:00, 91.08it/s] \n"
          ]
        },
        {
          "name": "stdout",
          "output_type": "stream",
          "text": [
            "[064/100] Train Acc: 0.797487 Loss: 0.632321 | Val Acc: 0.759791 loss: 0.788379\n"
          ]
        },
        {
          "name": "stderr",
          "output_type": "stream",
          "text": [
            "100%|██████████| 2067/2067 [00:46<00:00, 44.63it/s]\n",
            "100%|██████████| 516/516 [00:05<00:00, 89.88it/s]\n"
          ]
        },
        {
          "name": "stdout",
          "output_type": "stream",
          "text": [
            "[065/100] Train Acc: 0.797269 Loss: 0.631256 | Val Acc: 0.759836 loss: 0.785478\n"
          ]
        },
        {
          "name": "stderr",
          "output_type": "stream",
          "text": [
            "100%|██████████| 2067/2067 [00:46<00:00, 44.32it/s]\n",
            "100%|██████████| 516/516 [00:05<00:00, 91.07it/s] \n"
          ]
        },
        {
          "name": "stdout",
          "output_type": "stream",
          "text": [
            "[066/100] Train Acc: 0.798144 Loss: 0.629846 | Val Acc: 0.759918 loss: 0.785137\n"
          ]
        },
        {
          "name": "stderr",
          "output_type": "stream",
          "text": [
            "100%|██████████| 2067/2067 [00:46<00:00, 44.47it/s]\n",
            "100%|██████████| 516/516 [00:05<00:00, 92.49it/s] \n"
          ]
        },
        {
          "name": "stdout",
          "output_type": "stream",
          "text": [
            "[067/100] Train Acc: 0.798005 Loss: 0.629994 | Val Acc: 0.760683 loss: 0.784286\n",
            "saving model with acc 0.761\n"
          ]
        },
        {
          "name": "stderr",
          "output_type": "stream",
          "text": [
            "100%|██████████| 2067/2067 [00:46<00:00, 44.50it/s]\n",
            "100%|██████████| 516/516 [00:05<00:00, 90.26it/s]\n"
          ]
        },
        {
          "name": "stdout",
          "output_type": "stream",
          "text": [
            "[068/100] Train Acc: 0.798260 Loss: 0.628181 | Val Acc: 0.759198 loss: 0.789264\n"
          ]
        },
        {
          "name": "stderr",
          "output_type": "stream",
          "text": [
            "100%|██████████| 2067/2067 [00:46<00:00, 44.17it/s]\n",
            "100%|██████████| 516/516 [00:05<00:00, 91.87it/s] \n"
          ]
        },
        {
          "name": "stdout",
          "output_type": "stream",
          "text": [
            "[069/100] Train Acc: 0.798751 Loss: 0.627476 | Val Acc: 0.760579 loss: 0.788728\n"
          ]
        },
        {
          "name": "stderr",
          "output_type": "stream",
          "text": [
            "100%|██████████| 2067/2067 [00:46<00:00, 43.98it/s]\n",
            "100%|██████████| 516/516 [00:05<00:00, 91.66it/s] \n"
          ]
        },
        {
          "name": "stdout",
          "output_type": "stream",
          "text": [
            "[070/100] Train Acc: 0.799105 Loss: 0.626103 | Val Acc: 0.759427 loss: 0.788257\n"
          ]
        },
        {
          "name": "stderr",
          "output_type": "stream",
          "text": [
            "100%|██████████| 2067/2067 [00:47<00:00, 43.98it/s]\n",
            "100%|██████████| 516/516 [00:05<00:00, 88.47it/s]\n"
          ]
        },
        {
          "name": "stdout",
          "output_type": "stream",
          "text": [
            "[071/100] Train Acc: 0.799294 Loss: 0.625795 | Val Acc: 0.759764 loss: 0.790578\n"
          ]
        },
        {
          "name": "stderr",
          "output_type": "stream",
          "text": [
            "100%|██████████| 2067/2067 [00:47<00:00, 43.79it/s]\n",
            "100%|██████████| 516/516 [00:05<00:00, 91.75it/s] \n"
          ]
        },
        {
          "name": "stdout",
          "output_type": "stream",
          "text": [
            "[072/100] Train Acc: 0.799214 Loss: 0.624349 | Val Acc: 0.760534 loss: 0.789437\n"
          ]
        },
        {
          "name": "stderr",
          "output_type": "stream",
          "text": [
            "100%|██████████| 2067/2067 [00:47<00:00, 43.82it/s]\n",
            "100%|██████████| 516/516 [00:05<00:00, 91.96it/s] \n"
          ]
        },
        {
          "name": "stdout",
          "output_type": "stream",
          "text": [
            "[073/100] Train Acc: 0.799906 Loss: 0.624221 | Val Acc: 0.759933 loss: 0.791589\n"
          ]
        },
        {
          "name": "stderr",
          "output_type": "stream",
          "text": [
            "100%|██████████| 2067/2067 [00:47<00:00, 43.94it/s]\n",
            "100%|██████████| 516/516 [00:05<00:00, 89.91it/s]\n"
          ]
        },
        {
          "name": "stdout",
          "output_type": "stream",
          "text": [
            "[074/100] Train Acc: 0.799905 Loss: 0.623188 | Val Acc: 0.760011 loss: 0.789553\n"
          ]
        },
        {
          "name": "stderr",
          "output_type": "stream",
          "text": [
            "100%|██████████| 2067/2067 [00:47<00:00, 43.59it/s]\n",
            "100%|██████████| 516/516 [00:05<00:00, 90.93it/s] \n"
          ]
        },
        {
          "name": "stdout",
          "output_type": "stream",
          "text": [
            "[075/100] Train Acc: 0.800289 Loss: 0.622324 | Val Acc: 0.759850 loss: 0.789374\n"
          ]
        },
        {
          "name": "stderr",
          "output_type": "stream",
          "text": [
            "100%|██████████| 2067/2067 [00:47<00:00, 43.67it/s]\n",
            "100%|██████████| 516/516 [00:05<00:00, 86.97it/s]\n"
          ]
        },
        {
          "name": "stdout",
          "output_type": "stream",
          "text": [
            "[076/100] Train Acc: 0.800328 Loss: 0.621118 | Val Acc: 0.760480 loss: 0.790201\n"
          ]
        },
        {
          "name": "stderr",
          "output_type": "stream",
          "text": [
            "100%|██████████| 2067/2067 [00:47<00:00, 43.16it/s]\n",
            "100%|██████████| 516/516 [00:06<00:00, 82.40it/s]\n"
          ]
        },
        {
          "name": "stdout",
          "output_type": "stream",
          "text": [
            "[077/100] Train Acc: 0.800586 Loss: 0.620691 | Val Acc: 0.760568 loss: 0.787706\n"
          ]
        },
        {
          "name": "stderr",
          "output_type": "stream",
          "text": [
            "100%|██████████| 2067/2067 [00:47<00:00, 43.76it/s]\n",
            "100%|██████████| 516/516 [00:05<00:00, 91.57it/s]\n"
          ]
        },
        {
          "name": "stdout",
          "output_type": "stream",
          "text": [
            "[078/100] Train Acc: 0.801022 Loss: 0.619956 | Val Acc: 0.759850 loss: 0.789735\n"
          ]
        },
        {
          "name": "stderr",
          "output_type": "stream",
          "text": [
            "100%|██████████| 2067/2067 [00:47<00:00, 43.59it/s]\n",
            "100%|██████████| 516/516 [00:05<00:00, 92.16it/s] \n"
          ]
        },
        {
          "name": "stdout",
          "output_type": "stream",
          "text": [
            "[079/100] Train Acc: 0.800707 Loss: 0.619440 | Val Acc: 0.760602 loss: 0.792308\n"
          ]
        },
        {
          "name": "stderr",
          "output_type": "stream",
          "text": [
            "100%|██████████| 2067/2067 [00:47<00:00, 43.69it/s]\n",
            "100%|██████████| 516/516 [00:05<00:00, 89.85it/s] \n"
          ]
        },
        {
          "name": "stdout",
          "output_type": "stream",
          "text": [
            "[080/100] Train Acc: 0.801033 Loss: 0.619024 | Val Acc: 0.760215 loss: 0.792237\n"
          ]
        },
        {
          "name": "stderr",
          "output_type": "stream",
          "text": [
            "100%|██████████| 2067/2067 [00:46<00:00, 44.45it/s]\n",
            "100%|██████████| 516/516 [00:05<00:00, 91.70it/s] \n"
          ]
        },
        {
          "name": "stdout",
          "output_type": "stream",
          "text": [
            "[081/100] Train Acc: 0.801098 Loss: 0.618458 | Val Acc: 0.760338 loss: 0.788245\n"
          ]
        },
        {
          "name": "stderr",
          "output_type": "stream",
          "text": [
            "100%|██████████| 2067/2067 [00:46<00:00, 44.50it/s]\n",
            "100%|██████████| 516/516 [00:05<00:00, 91.52it/s] \n"
          ]
        },
        {
          "name": "stdout",
          "output_type": "stream",
          "text": [
            "[082/100] Train Acc: 0.801621 Loss: 0.616870 | Val Acc: 0.760369 loss: 0.788378\n"
          ]
        },
        {
          "name": "stderr",
          "output_type": "stream",
          "text": [
            "100%|██████████| 2067/2067 [00:46<00:00, 44.27it/s]\n",
            "100%|██████████| 516/516 [00:05<00:00, 92.53it/s] \n"
          ]
        },
        {
          "name": "stdout",
          "output_type": "stream",
          "text": [
            "[083/100] Train Acc: 0.801638 Loss: 0.616862 | Val Acc: 0.760427 loss: 0.790980\n"
          ]
        },
        {
          "name": "stderr",
          "output_type": "stream",
          "text": [
            "100%|██████████| 2067/2067 [00:46<00:00, 44.93it/s]\n",
            "100%|██████████| 516/516 [00:05<00:00, 93.89it/s] \n"
          ]
        },
        {
          "name": "stdout",
          "output_type": "stream",
          "text": [
            "[084/100] Train Acc: 0.801996 Loss: 0.615776 | Val Acc: 0.760948 loss: 0.787614\n",
            "saving model with acc 0.761\n"
          ]
        },
        {
          "name": "stderr",
          "output_type": "stream",
          "text": [
            "100%|██████████| 2067/2067 [00:46<00:00, 44.93it/s]\n",
            "100%|██████████| 516/516 [00:05<00:00, 95.66it/s] \n"
          ]
        },
        {
          "name": "stdout",
          "output_type": "stream",
          "text": [
            "[085/100] Train Acc: 0.802226 Loss: 0.614472 | Val Acc: 0.760401 loss: 0.793703\n"
          ]
        },
        {
          "name": "stderr",
          "output_type": "stream",
          "text": [
            "100%|██████████| 2067/2067 [00:48<00:00, 42.87it/s]\n",
            "100%|██████████| 516/516 [00:06<00:00, 85.58it/s]\n"
          ]
        },
        {
          "name": "stdout",
          "output_type": "stream",
          "text": [
            "[086/100] Train Acc: 0.802292 Loss: 0.614463 | Val Acc: 0.759840 loss: 0.790035\n"
          ]
        },
        {
          "name": "stderr",
          "output_type": "stream",
          "text": [
            "100%|██████████| 2067/2067 [00:49<00:00, 41.74it/s]\n",
            "100%|██████████| 516/516 [00:05<00:00, 86.22it/s]\n"
          ]
        },
        {
          "name": "stdout",
          "output_type": "stream",
          "text": [
            "[087/100] Train Acc: 0.802858 Loss: 0.613551 | Val Acc: 0.760395 loss: 0.790748\n"
          ]
        },
        {
          "name": "stderr",
          "output_type": "stream",
          "text": [
            "100%|██████████| 2067/2067 [00:49<00:00, 42.06it/s]\n",
            "100%|██████████| 516/516 [00:05<00:00, 86.35it/s]\n"
          ]
        },
        {
          "name": "stdout",
          "output_type": "stream",
          "text": [
            "[088/100] Train Acc: 0.802833 Loss: 0.613154 | Val Acc: 0.759948 loss: 0.792887\n"
          ]
        },
        {
          "name": "stderr",
          "output_type": "stream",
          "text": [
            "100%|██████████| 2067/2067 [00:47<00:00, 43.95it/s]\n",
            "100%|██████████| 516/516 [00:05<00:00, 88.82it/s]\n"
          ]
        },
        {
          "name": "stdout",
          "output_type": "stream",
          "text": [
            "[089/100] Train Acc: 0.802625 Loss: 0.613050 | Val Acc: 0.760270 loss: 0.791558\n"
          ]
        },
        {
          "name": "stderr",
          "output_type": "stream",
          "text": [
            "100%|██████████| 2067/2067 [00:46<00:00, 43.99it/s]\n",
            "100%|██████████| 516/516 [00:05<00:00, 89.90it/s] \n"
          ]
        },
        {
          "name": "stdout",
          "output_type": "stream",
          "text": [
            "[090/100] Train Acc: 0.802956 Loss: 0.611996 | Val Acc: 0.760725 loss: 0.790806\n"
          ]
        },
        {
          "name": "stderr",
          "output_type": "stream",
          "text": [
            "100%|██████████| 2067/2067 [00:46<00:00, 44.12it/s]\n",
            "100%|██████████| 516/516 [00:05<00:00, 87.64it/s] \n"
          ]
        },
        {
          "name": "stdout",
          "output_type": "stream",
          "text": [
            "[091/100] Train Acc: 0.803156 Loss: 0.611783 | Val Acc: 0.760433 loss: 0.791383\n"
          ]
        },
        {
          "name": "stderr",
          "output_type": "stream",
          "text": [
            "100%|██████████| 2067/2067 [00:48<00:00, 42.20it/s]\n",
            "100%|██████████| 516/516 [00:05<00:00, 86.72it/s]\n"
          ]
        },
        {
          "name": "stdout",
          "output_type": "stream",
          "text": [
            "[092/100] Train Acc: 0.803129 Loss: 0.611378 | Val Acc: 0.761045 loss: 0.789460\n",
            "saving model with acc 0.761\n"
          ]
        },
        {
          "name": "stderr",
          "output_type": "stream",
          "text": [
            "100%|██████████| 2067/2067 [00:48<00:00, 42.70it/s]\n",
            "100%|██████████| 516/516 [00:05<00:00, 86.63it/s]\n"
          ]
        },
        {
          "name": "stdout",
          "output_type": "stream",
          "text": [
            "[093/100] Train Acc: 0.803326 Loss: 0.610732 | Val Acc: 0.760549 loss: 0.792757\n"
          ]
        },
        {
          "name": "stderr",
          "output_type": "stream",
          "text": [
            "100%|██████████| 2067/2067 [00:48<00:00, 42.81it/s]\n",
            "100%|██████████| 516/516 [00:05<00:00, 89.33it/s]\n"
          ]
        },
        {
          "name": "stdout",
          "output_type": "stream",
          "text": [
            "[094/100] Train Acc: 0.803117 Loss: 0.609806 | Val Acc: 0.760238 loss: 0.791076\n"
          ]
        },
        {
          "name": "stderr",
          "output_type": "stream",
          "text": [
            "100%|██████████| 2067/2067 [00:49<00:00, 41.96it/s]\n",
            "100%|██████████| 516/516 [00:06<00:00, 85.81it/s]\n"
          ]
        },
        {
          "name": "stdout",
          "output_type": "stream",
          "text": [
            "[095/100] Train Acc: 0.803361 Loss: 0.609624 | Val Acc: 0.759647 loss: 0.793824\n"
          ]
        },
        {
          "name": "stderr",
          "output_type": "stream",
          "text": [
            "100%|██████████| 2067/2067 [00:48<00:00, 43.01it/s]\n",
            "100%|██████████| 516/516 [00:05<00:00, 87.32it/s] \n"
          ]
        },
        {
          "name": "stdout",
          "output_type": "stream",
          "text": [
            "[096/100] Train Acc: 0.803763 Loss: 0.608977 | Val Acc: 0.759330 loss: 0.790984\n"
          ]
        },
        {
          "name": "stderr",
          "output_type": "stream",
          "text": [
            "100%|██████████| 2067/2067 [00:47<00:00, 43.86it/s]\n",
            "100%|██████████| 516/516 [00:05<00:00, 89.16it/s]\n"
          ]
        },
        {
          "name": "stdout",
          "output_type": "stream",
          "text": [
            "[097/100] Train Acc: 0.804371 Loss: 0.607875 | Val Acc: 0.759709 loss: 0.796163\n"
          ]
        },
        {
          "name": "stderr",
          "output_type": "stream",
          "text": [
            "100%|██████████| 2067/2067 [00:46<00:00, 44.26it/s]\n",
            "100%|██████████| 516/516 [00:05<00:00, 90.12it/s]\n"
          ]
        },
        {
          "name": "stdout",
          "output_type": "stream",
          "text": [
            "[098/100] Train Acc: 0.804271 Loss: 0.608290 | Val Acc: 0.760376 loss: 0.793652\n"
          ]
        },
        {
          "name": "stderr",
          "output_type": "stream",
          "text": [
            "100%|██████████| 2067/2067 [00:46<00:00, 44.84it/s]\n",
            "100%|██████████| 516/516 [00:05<00:00, 91.49it/s] \n"
          ]
        },
        {
          "name": "stdout",
          "output_type": "stream",
          "text": [
            "[099/100] Train Acc: 0.804204 Loss: 0.606957 | Val Acc: 0.760363 loss: 0.791765\n"
          ]
        },
        {
          "name": "stderr",
          "output_type": "stream",
          "text": [
            "100%|██████████| 2067/2067 [00:46<00:00, 44.19it/s]\n",
            "100%|██████████| 516/516 [00:05<00:00, 89.72it/s] "
          ]
        },
        {
          "name": "stdout",
          "output_type": "stream",
          "text": [
            "[100/100] Train Acc: 0.804403 Loss: 0.607367 | Val Acc: 0.760196 loss: 0.790206\n"
          ]
        },
        {
          "name": "stderr",
          "output_type": "stream",
          "text": [
            "\n"
          ]
        }
      ],
      "source": [
        "best_acc = 0.0\n",
        "for epoch in range(num_epoch):\n",
        "    train_acc = 0.0\n",
        "    train_loss = 0.0\n",
        "    val_acc = 0.0\n",
        "    val_loss = 0.0\n",
        "    \n",
        "    # training\n",
        "    model.train() # set the model to training mode\n",
        "    for i, batch in enumerate(tqdm(train_loader)):\n",
        "        features, labels = batch\n",
        "        features = features.to(device)\n",
        "        labels = labels.to(device)\n",
        "        \n",
        "        optimizer.zero_grad() \n",
        "        outputs = model(features) \n",
        "        \n",
        "        loss = criterion(outputs, labels)\n",
        "        loss.backward() \n",
        "        optimizer.step() \n",
        "        \n",
        "        _, train_pred = torch.max(outputs, 1) # get the index of the class with the highest probability\n",
        "        train_acc += (train_pred.detach() == labels.detach()).sum().item()\n",
        "        train_loss += loss.item()\n",
        "    \n",
        "    # validation\n",
        "    if len(val_set) > 0:\n",
        "        model.eval() # set the model to evaluation mode\n",
        "        with torch.no_grad():\n",
        "            for i, batch in enumerate(tqdm(val_loader)):\n",
        "                features, labels = batch\n",
        "                features = features.to(device)\n",
        "                labels = labels.to(device)\n",
        "                outputs = model(features)\n",
        "                \n",
        "                loss = criterion(outputs, labels) \n",
        "                \n",
        "                _, val_pred = torch.max(outputs, 1) \n",
        "                val_acc += (val_pred.cpu() == labels.cpu()).sum().item() # get the index of the class with the highest probability\n",
        "                val_loss += loss.item()\n",
        "\n",
        "            print('[{:03d}/{:03d}] Train Acc: {:3.6f} Loss: {:3.6f} | Val Acc: {:3.6f} loss: {:3.6f}'.format(\n",
        "                epoch + 1, num_epoch, train_acc/len(train_set), train_loss/len(train_loader), val_acc/len(val_set), val_loss/len(val_loader)\n",
        "            ))\n",
        "\n",
        "            # if the model improves, save a checkpoint at this epoch\n",
        "            if val_acc > best_acc:\n",
        "                best_acc = val_acc\n",
        "                torch.save(model.state_dict(), model_path)\n",
        "                print('saving model with acc {:.3f}'.format(best_acc/len(val_set)))\n",
        "    else:\n",
        "        print('[{:03d}/{:03d}] Train Acc: {:3.6f} Loss: {:3.6f}'.format(\n",
        "            epoch + 1, num_epoch, train_acc/len(train_set), train_loss/len(train_loader)\n",
        "        ))\n",
        "\n",
        "# if not validating, save the last epoch\n",
        "if len(val_set) == 0:\n",
        "    torch.save(model.state_dict(), model_path)\n",
        "    print('saving model at last epoch')\n"
      ]
    },
    {
      "cell_type": "code",
      "execution_count": 11,
      "metadata": {
        "colab": {
          "base_uri": "https://localhost:8080/"
        },
        "id": "ab33MxosWLmG",
        "outputId": "911e8c9b-fc0f-4591-b0f6-311a1231c5e2"
      },
      "outputs": [
        {
          "data": {
            "text/plain": [
              "22"
            ]
          },
          "execution_count": 11,
          "metadata": {},
          "output_type": "execute_result"
        }
      ],
      "source": [
        "del train_loader, val_loader\n",
        "gc.collect()"
      ]
    },
    {
      "cell_type": "markdown",
      "metadata": {
        "id": "1Hi7jTn3PX-m"
      },
      "source": [
        "## Testing\n",
        "Create a testing dataset, and load model from the saved checkpoint."
      ]
    },
    {
      "cell_type": "code",
      "execution_count": 12,
      "metadata": {
        "colab": {
          "base_uri": "https://localhost:8080/"
        },
        "id": "VOG1Ou0PGrhc",
        "outputId": "abaaa25b-a93c-49b0-d228-9eca1e2ab2e0"
      },
      "outputs": [
        {
          "name": "stdout",
          "output_type": "stream",
          "text": [
            "[Dataset] - # phone classes: 41, number of utterances for test: 1078\n"
          ]
        },
        {
          "name": "stderr",
          "output_type": "stream",
          "text": [
            "1078it [00:17, 61.99it/s]"
          ]
        },
        {
          "name": "stdout",
          "output_type": "stream",
          "text": [
            "[INFO] test set\n",
            "torch.Size([646268, 1053])\n"
          ]
        },
        {
          "name": "stderr",
          "output_type": "stream",
          "text": [
            "\n"
          ]
        }
      ],
      "source": [
        "# load data\n",
        "test_X = preprocess_data(split='test', feat_dir='./libriphone/feat', phone_path='./libriphone', concat_nframes=concat_nframes)\n",
        "test_set = LibriDataset(test_X, None)\n",
        "test_loader = DataLoader(test_set, batch_size=batch_size, shuffle=False)"
      ]
    },
    {
      "cell_type": "code",
      "execution_count": 13,
      "metadata": {
        "colab": {
          "base_uri": "https://localhost:8080/"
        },
        "id": "ay0Fu8Ovkdad",
        "outputId": "e5b20aa7-4d8b-43a9-e068-f5c89706a360"
      },
      "outputs": [
        {
          "data": {
            "text/plain": [
              "<All keys matched successfully>"
            ]
          },
          "execution_count": 13,
          "metadata": {},
          "output_type": "execute_result"
        }
      ],
      "source": [
        "# load model\n",
        "model = Classifier(input_dim=input_dim, hidden_layers=hidden_layers, hidden_dim=hidden_dim).to(device)\n",
        "model.load_state_dict(torch.load(model_path))"
      ]
    },
    {
      "cell_type": "markdown",
      "metadata": {
        "id": "zp-DV1p4r7Nz"
      },
      "source": [
        "Make prediction."
      ]
    },
    {
      "cell_type": "code",
      "execution_count": 14,
      "metadata": {
        "colab": {
          "base_uri": "https://localhost:8080/"
        },
        "id": "84HU5GGjPqR0",
        "outputId": "cebd6694-8f74-44ff-f922-96ca4385acb8"
      },
      "outputs": [
        {
          "name": "stderr",
          "output_type": "stream",
          "text": [
            "100%|██████████| 632/632 [00:06<00:00, 101.14it/s]\n"
          ]
        }
      ],
      "source": [
        "test_acc = 0.0\n",
        "test_lengths = 0\n",
        "pred = np.array([], dtype=np.int32)\n",
        "\n",
        "model.eval()\n",
        "with torch.no_grad():\n",
        "    for i, batch in enumerate(tqdm(test_loader)):\n",
        "        features = batch\n",
        "        features = features.to(device)\n",
        "\n",
        "        outputs = model(features)\n",
        "\n",
        "        _, test_pred = torch.max(outputs, 1) # get the index of the class with the highest probability\n",
        "        pred = np.concatenate((pred, test_pred.cpu().numpy()), axis=0)\n"
      ]
    },
    {
      "cell_type": "markdown",
      "metadata": {
        "id": "wyZqy40Prz0v"
      },
      "source": [
        "Write prediction to a CSV file.\n",
        "\n",
        "After finish running this block, download the file `prediction.csv` from the files section on the left-hand side and submit it to Kaggle."
      ]
    },
    {
      "cell_type": "code",
      "execution_count": 15,
      "metadata": {
        "id": "GuljYSPHcZir"
      },
      "outputs": [],
      "source": [
        "with open('prediction.csv', 'w') as f:\n",
        "    f.write('Id,Class\\n')\n",
        "    for i, y in enumerate(pred):\n",
        "        f.write('{},{}\\n'.format(i, y))"
      ]
    }
  ],
  "metadata": {
    "accelerator": "GPU",
    "colab": {
      "collapsed_sections": [],
      "name": "ML2022Spring - HW2.ipynb",
      "provenance": []
    },
    "kernelspec": {
      "display_name": "Python 3",
      "name": "python3"
    },
    "language_info": {
      "codemirror_mode": {
        "name": "ipython",
        "version": 3
      },
      "file_extension": ".py",
      "mimetype": "text/x-python",
      "name": "python",
      "nbconvert_exporter": "python",
      "pygments_lexer": "ipython3",
      "version": "3.7.11"
    }
  },
  "nbformat": 4,
  "nbformat_minor": 0
}
