{
  "cells": [
    {
      "cell_type": "markdown",
      "metadata": {
        "id": "OYlaRwNu7ojq"
      },
      "source": [
        "# **Homework 2 Phoneme Classification**\n",
        "\n",
        "* Slides: https://docs.google.com/presentation/d/1v6HkBWiJb8WNDcJ9_-2kwVstxUWml87b9CnA16Gdoio/edit?usp=sharing\n",
        "* Kaggle: https://www.kaggle.com/c/ml2022spring-hw2\n",
        "* Video: TBA\n"
      ]
    },
    {
      "cell_type": "code",
      "execution_count": null,
      "metadata": {
        "colab": {
          "base_uri": "https://localhost:8080/"
        },
        "id": "mLQI0mNcmM-O",
        "outputId": "7d5b4d81-9438-4d50-8153-cd235c47ee21"
      },
      "outputs": [
        {
          "name": "stdout",
          "output_type": "stream",
          "text": [
            "Wed Feb 23 14:42:18 2022       \n",
            "+-----------------------------------------------------------------------------+\n",
            "| NVIDIA-SMI 460.32.03    Driver Version: 460.32.03    CUDA Version: 11.2     |\n",
            "|-------------------------------+----------------------+----------------------+\n",
            "| GPU  Name        Persistence-M| Bus-Id        Disp.A | Volatile Uncorr. ECC |\n",
            "| Fan  Temp  Perf  Pwr:Usage/Cap|         Memory-Usage | GPU-Util  Compute M. |\n",
            "|                               |                      |               MIG M. |\n",
            "|===============================+======================+======================|\n",
            "|   0  Tesla K80           Off  | 00000000:00:04.0 Off |                    0 |\n",
            "| N/A   30C    P8    29W / 149W |      0MiB / 11441MiB |      0%      Default |\n",
            "|                               |                      |                  N/A |\n",
            "+-------------------------------+----------------------+----------------------+\n",
            "                                                                               \n",
            "+-----------------------------------------------------------------------------+\n",
            "| Processes:                                                                  |\n",
            "|  GPU   GI   CI        PID   Type   Process name                  GPU Memory |\n",
            "|        ID   ID                                                   Usage      |\n",
            "|=============================================================================|\n",
            "|  No running processes found                                                 |\n",
            "+-----------------------------------------------------------------------------+\n"
          ]
        }
      ],
      "source": [
        "!nvidia-smi"
      ]
    },
    {
      "cell_type": "markdown",
      "metadata": {
        "id": "KVUGfWTo7_Oj"
      },
      "source": [
        "## Download Data\n",
        "Download data from google drive, then unzip it.\n",
        "\n",
        "You should have\n",
        "- `libriphone/train_split.txt`\n",
        "- `libriphone/train_labels`\n",
        "- `libriphone/test_split.txt`\n",
        "- `libriphone/feat/train/*.pt`: training feature<br>\n",
        "- `libriphone/feat/test/*.pt`:  testing feature<br>\n",
        "\n",
        "after running the following block.\n",
        "\n",
        "> **Notes: if the links are dead, you can download the data directly from [Kaggle](https://www.kaggle.com/c/ml2022spring-hw2/data) and upload it to the workspace, or you can use [the Kaggle API](https://www.kaggle.com/general/74235) to directly download the data into colab.**\n"
      ]
    },
    {
      "cell_type": "markdown",
      "metadata": {
        "id": "Bj5jYXsD9Ef3"
      },
      "source": [
        "### Download train/test metadata"
      ]
    },
    {
      "cell_type": "code",
      "execution_count": 3,
      "metadata": {
        "colab": {
          "base_uri": "https://localhost:8080/"
        },
        "id": "OzkiMEcC3Foq",
        "outputId": "cc90c16c-ee21-400e-ec08-dfcd422212a6"
      },
      "outputs": [
        {
          "name": "stderr",
          "output_type": "stream",
          "text": [
            "'wget' ���O�����Υ~���R�O�B�i���檺�{���Χ妸�ɡC\n",
            "'unzip' ���O�����Υ~���R�O�B�i���檺�{���Χ妸�ɡC\n",
            "'ls' ���O�����Υ~���R�O�B�i���檺�{���Χ妸�ɡC\n"
          ]
        }
      ],
      "source": [
        "# Main link\n",
        "!wget -O libriphone.zip \"https://github.com/xraychen/shiny-robot/releases/download/v1.0/libriphone.zip\"\n",
        "\n",
        "# Backup Link 0\n",
        "# !pip install --upgrade gdown\n",
        "# !gdown --id '1o6Ag-G3qItSmYhTheX6DYiuyNzWyHyTc' --output libriphone.zip\n",
        "\n",
        "# Backup link 1\n",
        "# !pip install --upgrade gdown\n",
        "# !gdown --id '1R1uQYi4QpX0tBfUWt2mbZcncdBsJkxeW' --output libriphone.zip\n",
        "\n",
        "# Backup link 2\n",
        "# !wget -O libriphone.zip \"https://www.dropbox.com/s/wqww8c5dbrl2ka9/libriphone.zip?dl=1\"\n",
        "\n",
        "# Backup link 3\n",
        "# !wget -O libriphone.zip \"https://www.dropbox.com/s/p2ljbtb2bam13in/libriphone.zip?dl=1\"\n",
        "\n",
        "!unzip -q libriphone.zip\n",
        "!ls libriphone"
      ]
    },
    {
      "cell_type": "code",
      "execution_count": 7,
      "metadata": {},
      "outputs": [
        {
          "name": "stdout",
          "output_type": "stream",
          "text": [
            "Downloading ml2022spring-hw2.zip to d:\\GitHub_file\\NTU_ML2022_spring\\HW2\n",
            "\n"
          ]
        },
        {
          "name": "stderr",
          "output_type": "stream",
          "text": [
            "\n",
            "  0%|          | 0.00/458M [00:00<?, ?B/s]\n",
            "  1%|          | 4.00M/458M [00:00<00:11, 39.9MB/s]\n",
            "  2%|▏         | 8.00M/458M [00:00<00:12, 39.1MB/s]\n",
            "  3%|▎         | 12.0M/458M [00:00<00:20, 22.9MB/s]\n",
            "  3%|▎         | 15.0M/458M [00:00<00:19, 24.1MB/s]\n",
            "  4%|▍         | 19.0M/458M [00:00<00:16, 28.2MB/s]\n",
            "  5%|▌         | 23.0M/458M [00:00<00:14, 30.8MB/s]\n",
            "  6%|▌         | 27.0M/458M [00:00<00:13, 33.0MB/s]\n",
            "  7%|▋         | 31.0M/458M [00:01<00:13, 32.8MB/s]\n",
            "  8%|▊         | 35.0M/458M [00:01<00:12, 34.5MB/s]\n",
            "  9%|▊         | 39.0M/458M [00:01<00:12, 34.5MB/s]\n",
            "  9%|▉         | 43.0M/458M [00:01<00:12, 33.9MB/s]\n",
            " 10%|█         | 47.0M/458M [00:01<00:12, 34.0MB/s]\n",
            " 11%|█         | 51.0M/458M [00:01<00:12, 35.3MB/s]\n",
            " 12%|█▏        | 55.0M/458M [00:01<00:11, 36.1MB/s]\n",
            " 13%|█▎        | 59.0M/458M [00:01<00:11, 36.8MB/s]\n",
            " 14%|█▍        | 63.0M/458M [00:01<00:11, 37.3MB/s]\n",
            " 15%|█▍        | 67.0M/458M [00:02<00:11, 36.6MB/s]\n",
            " 16%|█▌        | 71.0M/458M [00:02<00:10, 37.2MB/s]\n",
            " 16%|█▋        | 75.0M/458M [00:02<00:11, 35.4MB/s]\n",
            " 17%|█▋        | 79.0M/458M [00:02<00:11, 35.4MB/s]\n",
            " 18%|█▊        | 83.0M/458M [00:02<00:12, 32.5MB/s]\n",
            " 19%|█▉        | 87.0M/458M [00:02<00:11, 34.1MB/s]\n",
            " 20%|█▉        | 91.0M/458M [00:03<00:17, 22.5MB/s]\n",
            " 21%|██        | 95.0M/458M [00:03<00:14, 25.7MB/s]\n",
            " 22%|██▏       | 99.0M/458M [00:03<00:13, 28.5MB/s]\n",
            " 22%|██▏       | 103M/458M [00:03<00:12, 30.9MB/s] \n",
            " 23%|██▎       | 107M/458M [00:03<00:12, 30.6MB/s]\n",
            " 24%|██▍       | 111M/458M [00:03<00:11, 32.7MB/s]\n",
            " 25%|██▌       | 115M/458M [00:03<00:10, 34.3MB/s]\n",
            " 26%|██▌       | 119M/458M [00:03<00:10, 35.3MB/s]\n",
            " 27%|██▋       | 123M/458M [00:03<00:09, 36.2MB/s]\n",
            " 28%|██▊       | 127M/458M [00:04<00:09, 36.9MB/s]\n",
            " 29%|██▊       | 131M/458M [00:04<00:09, 37.3MB/s]\n",
            " 29%|██▉       | 135M/458M [00:04<00:08, 37.7MB/s]\n",
            " 30%|███       | 139M/458M [00:04<00:08, 37.8MB/s]\n",
            " 31%|███       | 143M/458M [00:04<00:08, 37.1MB/s]\n",
            " 32%|███▏      | 147M/458M [00:04<00:08, 37.5MB/s]\n",
            " 33%|███▎      | 151M/458M [00:04<00:08, 37.8MB/s]\n",
            " 34%|███▍      | 155M/458M [00:04<00:08, 38.0MB/s]\n",
            " 35%|███▍      | 159M/458M [00:04<00:08, 38.1MB/s]\n",
            " 36%|███▌      | 163M/458M [00:05<00:11, 26.7MB/s]\n",
            " 36%|███▋      | 167M/458M [00:05<00:10, 29.2MB/s]\n",
            " 37%|███▋      | 171M/458M [00:05<00:09, 31.4MB/s]\n",
            " 38%|███▊      | 175M/458M [00:05<00:09, 32.5MB/s]\n",
            " 39%|███▉      | 179M/458M [00:05<00:08, 34.1MB/s]\n",
            " 40%|███▉      | 183M/458M [00:05<00:08, 35.3MB/s]\n",
            " 41%|████      | 187M/458M [00:05<00:07, 36.2MB/s]\n",
            " 42%|████▏     | 191M/458M [00:05<00:07, 36.9MB/s]\n",
            " 43%|████▎     | 195M/458M [00:06<00:07, 37.3MB/s]\n",
            " 43%|████▎     | 199M/458M [00:06<00:07, 37.3MB/s]\n",
            " 44%|████▍     | 203M/458M [00:06<00:07, 37.7MB/s]\n",
            " 45%|████▌     | 207M/458M [00:06<00:06, 37.7MB/s]\n",
            " 46%|████▌     | 211M/458M [00:06<00:06, 37.2MB/s]\n",
            " 47%|████▋     | 215M/458M [00:06<00:06, 37.5MB/s]\n",
            " 48%|████▊     | 219M/458M [00:06<00:06, 37.8MB/s]\n",
            " 49%|████▊     | 223M/458M [00:06<00:06, 38.0MB/s]\n",
            " 50%|████▉     | 227M/458M [00:06<00:06, 37.9MB/s]\n",
            " 50%|█████     | 231M/458M [00:07<00:06, 38.1MB/s]\n",
            " 51%|█████▏    | 235M/458M [00:07<00:06, 38.2MB/s]\n",
            " 52%|█████▏    | 239M/458M [00:07<00:05, 38.3MB/s]\n",
            " 53%|█████▎    | 243M/458M [00:07<00:05, 38.3MB/s]\n",
            " 54%|█████▍    | 247M/458M [00:07<00:05, 37.4MB/s]\n",
            " 55%|█████▍    | 251M/458M [00:07<00:05, 37.8MB/s]\n",
            " 56%|█████▌    | 255M/458M [00:07<00:05, 37.9MB/s]\n",
            " 57%|█████▋    | 259M/458M [00:07<00:05, 38.2MB/s]\n",
            " 57%|█████▋    | 263M/458M [00:07<00:05, 38.2MB/s]\n",
            " 58%|█████▊    | 267M/458M [00:08<00:05, 38.2MB/s]\n",
            " 59%|█████▉    | 271M/458M [00:08<00:05, 38.4MB/s]\n",
            " 60%|██████    | 275M/458M [00:08<00:05, 38.3MB/s]\n",
            " 61%|██████    | 279M/458M [00:08<00:04, 38.3MB/s]\n",
            " 62%|██████▏   | 283M/458M [00:08<00:04, 37.2MB/s]\n",
            " 63%|██████▎   | 287M/458M [00:08<00:04, 37.7MB/s]\n",
            " 64%|██████▎   | 291M/458M [00:08<00:04, 37.9MB/s]\n",
            " 64%|██████▍   | 295M/458M [00:08<00:04, 38.1MB/s]\n",
            " 65%|██████▌   | 299M/458M [00:08<00:04, 38.2MB/s]\n",
            " 66%|██████▌   | 303M/458M [00:09<00:04, 38.3MB/s]\n",
            " 67%|██████▋   | 307M/458M [00:09<00:04, 38.3MB/s]\n",
            " 68%|██████▊   | 311M/458M [00:09<00:04, 37.8MB/s]\n",
            " 69%|██████▉   | 315M/458M [00:09<00:03, 37.8MB/s]\n",
            " 70%|██████▉   | 319M/458M [00:09<00:03, 37.1MB/s]\n",
            " 71%|███████   | 323M/458M [00:09<00:03, 37.6MB/s]\n",
            " 71%|███████▏  | 327M/458M [00:09<00:03, 37.8MB/s]\n",
            " 72%|███████▏  | 331M/458M [00:09<00:03, 37.8MB/s]\n",
            " 73%|███████▎  | 335M/458M [00:09<00:03, 38.0MB/s]\n",
            " 74%|███████▍  | 339M/458M [00:10<00:03, 38.1MB/s]\n",
            " 75%|███████▍  | 343M/458M [00:10<00:03, 38.1MB/s]\n",
            " 76%|███████▌  | 347M/458M [00:10<00:04, 27.6MB/s]\n",
            " 77%|███████▋  | 351M/458M [00:10<00:03, 29.6MB/s]\n",
            " 78%|███████▊  | 355M/458M [00:10<00:03, 31.9MB/s]\n",
            " 78%|███████▊  | 359M/458M [00:10<00:03, 33.5MB/s]\n",
            " 79%|███████▉  | 363M/458M [00:10<00:02, 34.9MB/s]\n",
            " 80%|████████  | 367M/458M [00:10<00:02, 35.7MB/s]\n",
            " 81%|████████  | 371M/458M [00:11<00:02, 36.5MB/s]\n",
            " 82%|████████▏ | 375M/458M [00:11<00:02, 37.1MB/s]\n",
            " 83%|████████▎ | 379M/458M [00:11<00:02, 37.5MB/s]\n",
            " 84%|████████▎ | 383M/458M [00:11<00:02, 37.7MB/s]\n",
            " 85%|████████▍ | 387M/458M [00:11<00:02, 37.1MB/s]\n",
            " 85%|████████▌ | 391M/458M [00:11<00:01, 37.5MB/s]\n",
            " 86%|████████▋ | 395M/458M [00:11<00:01, 37.8MB/s]\n",
            " 87%|████████▋ | 399M/458M [00:11<00:01, 38.0MB/s]\n",
            " 88%|████████▊ | 403M/458M [00:11<00:01, 38.0MB/s]\n",
            " 89%|████████▉ | 407M/458M [00:12<00:01, 38.2MB/s]\n",
            " 90%|████████▉ | 411M/458M [00:12<00:01, 38.3MB/s]\n",
            " 91%|█████████ | 415M/458M [00:12<00:01, 38.3MB/s]\n",
            " 92%|█████████▏| 419M/458M [00:12<00:01, 38.3MB/s]\n",
            " 92%|█████████▏| 423M/458M [00:12<00:00, 37.4MB/s]\n",
            " 93%|█████████▎| 427M/458M [00:12<00:00, 37.7MB/s]\n",
            " 94%|█████████▍| 431M/458M [00:12<00:00, 37.9MB/s]\n",
            " 95%|█████████▌| 435M/458M [00:12<00:00, 38.1MB/s]\n",
            " 96%|█████████▌| 439M/458M [00:12<00:00, 38.2MB/s]\n",
            " 97%|█████████▋| 443M/458M [00:13<00:00, 38.3MB/s]\n",
            " 98%|█████████▊| 447M/458M [00:13<00:00, 38.3MB/s]\n",
            " 99%|█████████▊| 451M/458M [00:13<00:00, 37.2MB/s]\n",
            " 99%|█████████▉| 455M/458M [00:13<00:00, 37.3MB/s]\n",
            "100%|██████████| 458M/458M [00:13<00:00, 35.5MB/s]\n"
          ]
        }
      ],
      "source": [
        "!kaggle competitions download -c ml2022spring-hw2"
      ]
    },
    {
      "cell_type": "markdown",
      "metadata": {
        "id": "_L_4anls8Drv"
      },
      "source": [
        "### Preparing Data"
      ]
    },
    {
      "cell_type": "markdown",
      "metadata": {
        "id": "po4N3C-AWuWl"
      },
      "source": [
        "**Helper functions to pre-process the training data from raw MFCC features of each utterance.**\n",
        "\n",
        "A phoneme may span several frames and is dependent to past and future frames. \\\n",
        "Hence we concatenate neighboring phonemes for training to achieve higher accuracy. The **concat_feat** function concatenates past and future k frames (total 2k+1 = n frames), and we predict the center frame.\n",
        "\n",
        "Feel free to modify the data preprocess functions, but **do not drop any frame** (if you modify the functions, remember to check that the number of frames are the same as mentioned in the slides)"
      ]
    },
    {
      "cell_type": "code",
      "execution_count": 1,
      "metadata": {
        "id": "IJjLT8em-y9G"
      },
      "outputs": [],
      "source": [
        "import os\n",
        "import random\n",
        "import pandas as pd\n",
        "import torch\n",
        "from tqdm import tqdm\n",
        "import numpy as np"
      ]
    },
    {
      "cell_type": "code",
      "execution_count": 2,
      "metadata": {},
      "outputs": [],
      "source": [
        "# Import Utils via util.py\n",
        "# import util\n",
        "# import importlib\n",
        "# importlib.reload(util)\n",
        "from util import *"
      ]
    },
    {
      "cell_type": "markdown",
      "metadata": {
        "id": "us5XW_x6udZQ"
      },
      "source": [
        "## Define Dataset"
      ]
    },
    {
      "cell_type": "code",
      "execution_count": 3,
      "metadata": {
        "id": "Fjf5EcmJtf4e"
      },
      "outputs": [],
      "source": [
        "import torch\n",
        "from torch.utils.data import Dataset\n",
        "from torch.utils.data import DataLoader\n",
        "\n",
        "class LibriDataset(Dataset):\n",
        "    def __init__(self, X, y=None):\n",
        "        self.data = X\n",
        "        if y is not None:\n",
        "            self.label = torch.LongTensor(y)\n",
        "        else:\n",
        "            self.label = None\n",
        "\n",
        "    def __getitem__(self, idx):\n",
        "        if self.label is not None:\n",
        "            return self.data[idx], self.label[idx]\n",
        "        else:\n",
        "            return self.data[idx]\n",
        "\n",
        "    def __len__(self):\n",
        "        return len(self.data)\n"
      ]
    },
    {
      "cell_type": "markdown",
      "metadata": {
        "id": "IRqKNvNZwe3V"
      },
      "source": [
        "## Define Model\n",
        "Via model.py"
      ]
    },
    {
      "cell_type": "code",
      "execution_count": 4,
      "metadata": {},
      "outputs": [],
      "source": [
        "import torch\n",
        "import torch.nn as nn\n",
        "import torch.nn.functional as F"
      ]
    },
    {
      "cell_type": "code",
      "execution_count": 5,
      "metadata": {},
      "outputs": [],
      "source": [
        "# import importlib\n",
        "# import model\n",
        "# importlib.reload(model)\n",
        "from model import *"
      ]
    },
    {
      "cell_type": "markdown",
      "metadata": {
        "id": "TlIq8JeqvvHC"
      },
      "source": [
        "## Hyper-parameters"
      ]
    },
    {
      "cell_type": "code",
      "execution_count": 6,
      "metadata": {
        "id": "iIHn79Iav1ri"
      },
      "outputs": [],
      "source": [
        "# data prarameters\n",
        "concat_nframes = 27              # the number of frames to concat with, n must be odd (total 2k+1 = n frames)\n",
        "train_ratio = 0.8               # the ratio of data used for training, the rest will be used for validation\n",
        "\n",
        "# training parameters\n",
        "seed = 777                        # random seed\n",
        "batch_size = 1024                # batch size\n",
        "num_epoch = 35                # the number of training epoch\n",
        "learning_rate = 0.001          # learning rate\n",
        "model_path = './model.ckpt'     # the path where the checkpoint will be saved\n",
        "\n",
        "# model parameters\n",
        "input_dim = 39 * concat_nframes # the input dim of the model, you should not change the value\n",
        "hidden_layers = 7               # the number of hidden layers\n",
        "hidden_dim = 512                # the hidden dim\n",
        "dropout_rate = 0.25              # define dropout rate"
      ]
    },
    {
      "cell_type": "markdown",
      "metadata": {
        "id": "IIUFRgG5yoDn"
      },
      "source": [
        "## Prepare dataset and model"
      ]
    },
    {
      "cell_type": "code",
      "execution_count": 7,
      "metadata": {
        "colab": {
          "base_uri": "https://localhost:8080/"
        },
        "id": "c1zI3v5jyrDn",
        "outputId": "3ea2823a-83f3-42d9-ef05-2f2c002f9538"
      },
      "outputs": [
        {
          "name": "stdout",
          "output_type": "stream",
          "text": [
            "[Dataset] - # phone classes: 41, number of utterances for train: 3428\n"
          ]
        },
        {
          "name": "stderr",
          "output_type": "stream",
          "text": [
            "3428it [00:53, 64.32it/s] \n"
          ]
        },
        {
          "name": "stdout",
          "output_type": "stream",
          "text": [
            "[INFO] train set\n",
            "torch.Size([2116368, 1053])\n",
            "torch.Size([2116368])\n",
            "[Dataset] - # phone classes: 41, number of utterances for val: 858\n"
          ]
        },
        {
          "name": "stderr",
          "output_type": "stream",
          "text": [
            "858it [00:17, 49.83it/s]\n"
          ]
        },
        {
          "name": "stdout",
          "output_type": "stream",
          "text": [
            "[INFO] val set\n",
            "torch.Size([527790, 1053])\n",
            "torch.Size([527790])\n"
          ]
        }
      ],
      "source": [
        "import gc\n",
        "\n",
        "# preprocess data\n",
        "train_X, train_y = preprocess_data(split='train', feat_dir='./libriphone/feat', phone_path='./libriphone', concat_nframes=concat_nframes, train_ratio=train_ratio)\n",
        "val_X, val_y = preprocess_data(split='val', feat_dir='./libriphone/feat', phone_path='./libriphone', concat_nframes=concat_nframes, train_ratio=train_ratio)\n",
        "\n",
        "# get dataset\n",
        "train_set = LibriDataset(train_X, train_y)\n",
        "val_set = LibriDataset(val_X, val_y)\n",
        "\n",
        "# remove raw feature to save memory\n",
        "del train_X, train_y, val_X, val_y\n",
        "gc.collect()\n",
        "\n",
        "# get dataloader\n",
        "train_loader = DataLoader(train_set, batch_size=batch_size, shuffle=True)\n",
        "val_loader = DataLoader(val_set, batch_size=batch_size, shuffle=False)"
      ]
    },
    {
      "cell_type": "code",
      "execution_count": 8,
      "metadata": {
        "colab": {
          "base_uri": "https://localhost:8080/"
        },
        "id": "CfRUEgC0GxUV",
        "outputId": "f9804711-72b1-4717-896b-821a300cfe87"
      },
      "outputs": [
        {
          "name": "stdout",
          "output_type": "stream",
          "text": [
            "DEVICE: cuda:0\n"
          ]
        }
      ],
      "source": [
        "device = 'cuda:0' if torch.cuda.is_available() else 'cpu'\n",
        "print(f'DEVICE: {device}')\n",
        "\n",
        "# fix random seed\n",
        "same_seeds(seed)"
      ]
    },
    {
      "cell_type": "code",
      "execution_count": 9,
      "metadata": {
        "id": "QTp3ZXg1yO9Y"
      },
      "outputs": [],
      "source": [
        "# create model, define a loss function, and optimizer\n",
        "model = Classifier(input_dim=input_dim, hidden_layers=hidden_layers, hidden_dim=hidden_dim, dropout_rate=dropout_rate).to(device)\n",
        "criterion = nn.CrossEntropyLoss() \n",
        "optimizer = torch.optim.AdamW(model.parameters(), lr=learning_rate)"
      ]
    },
    {
      "cell_type": "markdown",
      "metadata": {
        "id": "pwWH1KIqzxEr"
      },
      "source": [
        "## Training"
      ]
    },
    {
      "cell_type": "code",
      "execution_count": 10,
      "metadata": {
        "colab": {
          "base_uri": "https://localhost:8080/"
        },
        "id": "CdMWsBs7zzNs",
        "outputId": "17922ad2-a319-4253-8783-3e4939d0a7cf"
      },
      "outputs": [
        {
          "name": "stderr",
          "output_type": "stream",
          "text": [
            "100%|██████████| 2067/2067 [00:49<00:00, 41.92it/s]\n",
            "100%|██████████| 516/516 [00:05<00:00, 101.66it/s]\n"
          ]
        },
        {
          "name": "stdout",
          "output_type": "stream",
          "text": [
            "[001/035] Train Acc: 0.554336 Loss: 1.485275 | Val Acc: 0.639177 loss: 1.163455\n",
            "saving model with acc 0.639\n"
          ]
        },
        {
          "name": "stderr",
          "output_type": "stream",
          "text": [
            "100%|██████████| 2067/2067 [00:36<00:00, 56.06it/s]\n",
            "100%|██████████| 516/516 [00:04<00:00, 104.71it/s]\n"
          ]
        },
        {
          "name": "stdout",
          "output_type": "stream",
          "text": [
            "[002/035] Train Acc: 0.620598 Loss: 1.246490 | Val Acc: 0.669198 loss: 1.061693\n",
            "saving model with acc 0.669\n"
          ]
        },
        {
          "name": "stderr",
          "output_type": "stream",
          "text": [
            "100%|██████████| 2067/2067 [00:37<00:00, 55.74it/s]\n",
            "100%|██████████| 516/516 [00:04<00:00, 105.34it/s]\n"
          ]
        },
        {
          "name": "stdout",
          "output_type": "stream",
          "text": [
            "[003/035] Train Acc: 0.642554 Loss: 1.167284 | Val Acc: 0.685384 loss: 1.009111\n",
            "saving model with acc 0.685\n"
          ]
        },
        {
          "name": "stderr",
          "output_type": "stream",
          "text": [
            "100%|██████████| 2067/2067 [00:36<00:00, 56.13it/s]\n",
            "100%|██████████| 516/516 [00:04<00:00, 104.25it/s]\n"
          ]
        },
        {
          "name": "stdout",
          "output_type": "stream",
          "text": [
            "[004/035] Train Acc: 0.656485 Loss: 1.120971 | Val Acc: 0.696821 loss: 0.971072\n",
            "saving model with acc 0.697\n"
          ]
        },
        {
          "name": "stderr",
          "output_type": "stream",
          "text": [
            "100%|██████████| 2067/2067 [00:37<00:00, 55.73it/s]\n",
            "100%|██████████| 516/516 [00:04<00:00, 104.57it/s]\n"
          ]
        },
        {
          "name": "stdout",
          "output_type": "stream",
          "text": [
            "[005/035] Train Acc: 0.666367 Loss: 1.086924 | Val Acc: 0.702245 loss: 0.951063\n",
            "saving model with acc 0.702\n"
          ]
        },
        {
          "name": "stderr",
          "output_type": "stream",
          "text": [
            "100%|██████████| 2067/2067 [00:37<00:00, 55.46it/s]\n",
            "100%|██████████| 516/516 [00:04<00:00, 105.16it/s]\n"
          ]
        },
        {
          "name": "stdout",
          "output_type": "stream",
          "text": [
            "[006/035] Train Acc: 0.673201 Loss: 1.062702 | Val Acc: 0.707713 loss: 0.930826\n",
            "saving model with acc 0.708\n"
          ]
        },
        {
          "name": "stderr",
          "output_type": "stream",
          "text": [
            "100%|██████████| 2067/2067 [00:36<00:00, 55.97it/s]\n",
            "100%|██████████| 516/516 [00:04<00:00, 106.59it/s]\n"
          ]
        },
        {
          "name": "stdout",
          "output_type": "stream",
          "text": [
            "[007/035] Train Acc: 0.678503 Loss: 1.043044 | Val Acc: 0.712344 loss: 0.916680\n",
            "saving model with acc 0.712\n"
          ]
        },
        {
          "name": "stderr",
          "output_type": "stream",
          "text": [
            "100%|██████████| 2067/2067 [00:37<00:00, 55.39it/s]\n",
            "100%|██████████| 516/516 [00:04<00:00, 108.09it/s]\n"
          ]
        },
        {
          "name": "stdout",
          "output_type": "stream",
          "text": [
            "[008/035] Train Acc: 0.683085 Loss: 1.027767 | Val Acc: 0.714877 loss: 0.907261\n",
            "saving model with acc 0.715\n"
          ]
        },
        {
          "name": "stderr",
          "output_type": "stream",
          "text": [
            "100%|██████████| 2067/2067 [00:36<00:00, 56.12it/s]\n",
            "100%|██████████| 516/516 [00:04<00:00, 104.95it/s]\n"
          ]
        },
        {
          "name": "stdout",
          "output_type": "stream",
          "text": [
            "[009/035] Train Acc: 0.686422 Loss: 1.014515 | Val Acc: 0.719366 loss: 0.894175\n",
            "saving model with acc 0.719\n"
          ]
        },
        {
          "name": "stderr",
          "output_type": "stream",
          "text": [
            "100%|██████████| 2067/2067 [00:37<00:00, 54.79it/s]\n",
            "100%|██████████| 516/516 [00:05<00:00, 100.86it/s]\n"
          ]
        },
        {
          "name": "stdout",
          "output_type": "stream",
          "text": [
            "[010/035] Train Acc: 0.689861 Loss: 1.003134 | Val Acc: 0.721355 loss: 0.885970\n",
            "saving model with acc 0.721\n"
          ]
        },
        {
          "name": "stderr",
          "output_type": "stream",
          "text": [
            "100%|██████████| 2067/2067 [00:38<00:00, 54.09it/s]\n",
            "100%|██████████| 516/516 [00:04<00:00, 104.63it/s]\n"
          ]
        },
        {
          "name": "stdout",
          "output_type": "stream",
          "text": [
            "[011/035] Train Acc: 0.692377 Loss: 0.994475 | Val Acc: 0.723547 loss: 0.878129\n",
            "saving model with acc 0.724\n"
          ]
        },
        {
          "name": "stderr",
          "output_type": "stream",
          "text": [
            "100%|██████████| 2067/2067 [00:37<00:00, 54.83it/s]\n",
            "100%|██████████| 516/516 [00:04<00:00, 106.56it/s]\n"
          ]
        },
        {
          "name": "stdout",
          "output_type": "stream",
          "text": [
            "[012/035] Train Acc: 0.694532 Loss: 0.985473 | Val Acc: 0.724172 loss: 0.875066\n",
            "saving model with acc 0.724\n"
          ]
        },
        {
          "name": "stderr",
          "output_type": "stream",
          "text": [
            "100%|██████████| 2067/2067 [00:37<00:00, 55.16it/s]\n",
            "100%|██████████| 516/516 [00:04<00:00, 105.68it/s]\n"
          ]
        },
        {
          "name": "stdout",
          "output_type": "stream",
          "text": [
            "[013/035] Train Acc: 0.696771 Loss: 0.977978 | Val Acc: 0.726916 loss: 0.868911\n",
            "saving model with acc 0.727\n"
          ]
        },
        {
          "name": "stderr",
          "output_type": "stream",
          "text": [
            "100%|██████████| 2067/2067 [00:37<00:00, 55.15it/s]\n",
            "100%|██████████| 516/516 [00:04<00:00, 106.71it/s]\n"
          ]
        },
        {
          "name": "stdout",
          "output_type": "stream",
          "text": [
            "[014/035] Train Acc: 0.698807 Loss: 0.971478 | Val Acc: 0.727645 loss: 0.864635\n",
            "saving model with acc 0.728\n"
          ]
        },
        {
          "name": "stderr",
          "output_type": "stream",
          "text": [
            "100%|██████████| 2067/2067 [00:37<00:00, 55.07it/s]\n",
            "100%|██████████| 516/516 [00:04<00:00, 107.20it/s]\n"
          ]
        },
        {
          "name": "stdout",
          "output_type": "stream",
          "text": [
            "[015/035] Train Acc: 0.700167 Loss: 0.965467 | Val Acc: 0.728938 loss: 0.860131\n",
            "saving model with acc 0.729\n"
          ]
        },
        {
          "name": "stderr",
          "output_type": "stream",
          "text": [
            "100%|██████████| 2067/2067 [00:37<00:00, 55.13it/s]\n",
            "100%|██████████| 516/516 [00:04<00:00, 104.52it/s]\n"
          ]
        },
        {
          "name": "stdout",
          "output_type": "stream",
          "text": [
            "[016/035] Train Acc: 0.702344 Loss: 0.959567 | Val Acc: 0.730582 loss: 0.856752\n",
            "saving model with acc 0.731\n"
          ]
        },
        {
          "name": "stderr",
          "output_type": "stream",
          "text": [
            "100%|██████████| 2067/2067 [00:37<00:00, 55.13it/s]\n",
            "100%|██████████| 516/516 [00:04<00:00, 107.89it/s]\n"
          ]
        },
        {
          "name": "stdout",
          "output_type": "stream",
          "text": [
            "[017/035] Train Acc: 0.702985 Loss: 0.955212 | Val Acc: 0.732166 loss: 0.851341\n",
            "saving model with acc 0.732\n"
          ]
        },
        {
          "name": "stderr",
          "output_type": "stream",
          "text": [
            "100%|██████████| 2067/2067 [00:37<00:00, 55.07it/s]\n",
            "100%|██████████| 516/516 [00:04<00:00, 105.05it/s]\n"
          ]
        },
        {
          "name": "stdout",
          "output_type": "stream",
          "text": [
            "[018/035] Train Acc: 0.704363 Loss: 0.950810 | Val Acc: 0.732147 loss: 0.849623\n"
          ]
        },
        {
          "name": "stderr",
          "output_type": "stream",
          "text": [
            "100%|██████████| 2067/2067 [00:37<00:00, 55.14it/s]\n",
            "100%|██████████| 516/516 [00:04<00:00, 106.12it/s]\n"
          ]
        },
        {
          "name": "stdout",
          "output_type": "stream",
          "text": [
            "[019/035] Train Acc: 0.705518 Loss: 0.946711 | Val Acc: 0.733809 loss: 0.846424\n",
            "saving model with acc 0.734\n"
          ]
        },
        {
          "name": "stderr",
          "output_type": "stream",
          "text": [
            "100%|██████████| 2067/2067 [00:37<00:00, 55.11it/s]\n",
            "100%|██████████| 516/516 [00:05<00:00, 102.99it/s]\n"
          ]
        },
        {
          "name": "stdout",
          "output_type": "stream",
          "text": [
            "[020/035] Train Acc: 0.706788 Loss: 0.942650 | Val Acc: 0.734207 loss: 0.844494\n",
            "saving model with acc 0.734\n"
          ]
        },
        {
          "name": "stderr",
          "output_type": "stream",
          "text": [
            "100%|██████████| 2067/2067 [00:37<00:00, 55.10it/s]\n",
            "100%|██████████| 516/516 [00:04<00:00, 107.05it/s]\n"
          ]
        },
        {
          "name": "stdout",
          "output_type": "stream",
          "text": [
            "[021/035] Train Acc: 0.707685 Loss: 0.939629 | Val Acc: 0.735075 loss: 0.841098\n",
            "saving model with acc 0.735\n"
          ]
        },
        {
          "name": "stderr",
          "output_type": "stream",
          "text": [
            "100%|██████████| 2067/2067 [00:37<00:00, 55.28it/s]\n",
            "100%|██████████| 516/516 [00:05<00:00, 101.94it/s]\n"
          ]
        },
        {
          "name": "stdout",
          "output_type": "stream",
          "text": [
            "[022/035] Train Acc: 0.708435 Loss: 0.936221 | Val Acc: 0.735738 loss: 0.839830\n",
            "saving model with acc 0.736\n"
          ]
        },
        {
          "name": "stderr",
          "output_type": "stream",
          "text": [
            "100%|██████████| 2067/2067 [00:37<00:00, 55.04it/s]\n",
            "100%|██████████| 516/516 [00:04<00:00, 108.02it/s]\n"
          ]
        },
        {
          "name": "stdout",
          "output_type": "stream",
          "text": [
            "[023/035] Train Acc: 0.709359 Loss: 0.933577 | Val Acc: 0.736549 loss: 0.835967\n",
            "saving model with acc 0.737\n"
          ]
        },
        {
          "name": "stderr",
          "output_type": "stream",
          "text": [
            "100%|██████████| 2067/2067 [00:37<00:00, 55.19it/s]\n",
            "100%|██████████| 516/516 [00:04<00:00, 105.08it/s]\n"
          ]
        },
        {
          "name": "stdout",
          "output_type": "stream",
          "text": [
            "[024/035] Train Acc: 0.709960 Loss: 0.930991 | Val Acc: 0.737560 loss: 0.833604\n",
            "saving model with acc 0.738\n"
          ]
        },
        {
          "name": "stderr",
          "output_type": "stream",
          "text": [
            "100%|██████████| 2067/2067 [00:37<00:00, 55.75it/s]\n",
            "100%|██████████| 516/516 [00:05<00:00, 102.51it/s]\n"
          ]
        },
        {
          "name": "stdout",
          "output_type": "stream",
          "text": [
            "[025/035] Train Acc: 0.710924 Loss: 0.927145 | Val Acc: 0.737695 loss: 0.831472\n",
            "saving model with acc 0.738\n"
          ]
        },
        {
          "name": "stderr",
          "output_type": "stream",
          "text": [
            "100%|██████████| 2067/2067 [00:37<00:00, 54.98it/s]\n",
            "100%|██████████| 516/516 [00:05<00:00, 102.19it/s]\n"
          ]
        },
        {
          "name": "stdout",
          "output_type": "stream",
          "text": [
            "[026/035] Train Acc: 0.711970 Loss: 0.924677 | Val Acc: 0.738851 loss: 0.829610\n",
            "saving model with acc 0.739\n"
          ]
        },
        {
          "name": "stderr",
          "output_type": "stream",
          "text": [
            "100%|██████████| 2067/2067 [00:37<00:00, 54.72it/s]\n",
            "100%|██████████| 516/516 [00:04<00:00, 106.37it/s]\n"
          ]
        },
        {
          "name": "stdout",
          "output_type": "stream",
          "text": [
            "[027/035] Train Acc: 0.712375 Loss: 0.922320 | Val Acc: 0.738800 loss: 0.829444\n"
          ]
        },
        {
          "name": "stderr",
          "output_type": "stream",
          "text": [
            "100%|██████████| 2067/2067 [00:36<00:00, 56.19it/s]\n",
            "100%|██████████| 516/516 [00:05<00:00, 97.05it/s] \n"
          ]
        },
        {
          "name": "stdout",
          "output_type": "stream",
          "text": [
            "[028/035] Train Acc: 0.712850 Loss: 0.920201 | Val Acc: 0.739550 loss: 0.826784\n",
            "saving model with acc 0.740\n"
          ]
        },
        {
          "name": "stderr",
          "output_type": "stream",
          "text": [
            "100%|██████████| 2067/2067 [00:38<00:00, 54.37it/s]\n",
            "100%|██████████| 516/516 [00:04<00:00, 103.88it/s]\n"
          ]
        },
        {
          "name": "stdout",
          "output_type": "stream",
          "text": [
            "[029/035] Train Acc: 0.713575 Loss: 0.918255 | Val Acc: 0.739821 loss: 0.824596\n",
            "saving model with acc 0.740\n"
          ]
        },
        {
          "name": "stderr",
          "output_type": "stream",
          "text": [
            "100%|██████████| 2067/2067 [00:37<00:00, 54.55it/s]\n",
            "100%|██████████| 516/516 [00:05<00:00, 100.29it/s]\n"
          ]
        },
        {
          "name": "stdout",
          "output_type": "stream",
          "text": [
            "[030/035] Train Acc: 0.714273 Loss: 0.915584 | Val Acc: 0.740554 loss: 0.823756\n",
            "saving model with acc 0.741\n"
          ]
        },
        {
          "name": "stderr",
          "output_type": "stream",
          "text": [
            "100%|██████████| 2067/2067 [00:37<00:00, 54.42it/s]\n",
            "100%|██████████| 516/516 [00:05<00:00, 102.02it/s]\n"
          ]
        },
        {
          "name": "stdout",
          "output_type": "stream",
          "text": [
            "[031/035] Train Acc: 0.714674 Loss: 0.914028 | Val Acc: 0.741674 loss: 0.821283\n",
            "saving model with acc 0.742\n"
          ]
        },
        {
          "name": "stderr",
          "output_type": "stream",
          "text": [
            "100%|██████████| 2067/2067 [00:36<00:00, 56.09it/s]\n",
            "100%|██████████| 516/516 [00:04<00:00, 105.56it/s]\n"
          ]
        },
        {
          "name": "stdout",
          "output_type": "stream",
          "text": [
            "[032/035] Train Acc: 0.715051 Loss: 0.912078 | Val Acc: 0.741168 loss: 0.821180\n"
          ]
        },
        {
          "name": "stderr",
          "output_type": "stream",
          "text": [
            "100%|██████████| 2067/2067 [00:36<00:00, 56.23it/s]\n",
            "100%|██████████| 516/516 [00:04<00:00, 107.75it/s]\n"
          ]
        },
        {
          "name": "stdout",
          "output_type": "stream",
          "text": [
            "[033/035] Train Acc: 0.715598 Loss: 0.910564 | Val Acc: 0.742233 loss: 0.817076\n",
            "saving model with acc 0.742\n"
          ]
        },
        {
          "name": "stderr",
          "output_type": "stream",
          "text": [
            "100%|██████████| 2067/2067 [00:36<00:00, 56.15it/s]\n",
            "100%|██████████| 516/516 [00:05<00:00, 98.95it/s] \n"
          ]
        },
        {
          "name": "stdout",
          "output_type": "stream",
          "text": [
            "[034/035] Train Acc: 0.716197 Loss: 0.908683 | Val Acc: 0.742936 loss: 0.816398\n",
            "saving model with acc 0.743\n"
          ]
        },
        {
          "name": "stderr",
          "output_type": "stream",
          "text": [
            "100%|██████████| 2067/2067 [00:36<00:00, 56.10it/s]\n",
            "100%|██████████| 516/516 [00:04<00:00, 107.48it/s]"
          ]
        },
        {
          "name": "stdout",
          "output_type": "stream",
          "text": [
            "[035/035] Train Acc: 0.716829 Loss: 0.906743 | Val Acc: 0.743316 loss: 0.814504\n",
            "saving model with acc 0.743\n"
          ]
        },
        {
          "name": "stderr",
          "output_type": "stream",
          "text": [
            "\n"
          ]
        }
      ],
      "source": [
        "best_acc = 0.0\n",
        "for epoch in range(num_epoch):\n",
        "    train_acc = 0.0\n",
        "    train_loss = 0.0\n",
        "    val_acc = 0.0\n",
        "    val_loss = 0.0\n",
        "    \n",
        "    # training\n",
        "    model.train() # set the model to training mode\n",
        "    for i, batch in enumerate(tqdm(train_loader)):\n",
        "        features, labels = batch\n",
        "        features = features.to(device)\n",
        "        labels = labels.to(device)\n",
        "        \n",
        "        optimizer.zero_grad() \n",
        "        outputs = model(features) \n",
        "        \n",
        "        loss = criterion(outputs, labels)\n",
        "        loss.backward() \n",
        "        optimizer.step() \n",
        "        \n",
        "        _, train_pred = torch.max(outputs, 1) # get the index of the class with the highest probability\n",
        "        train_acc += (train_pred.detach() == labels.detach()).sum().item()\n",
        "        train_loss += loss.item()\n",
        "    \n",
        "    # validation\n",
        "    if len(val_set) > 0:\n",
        "        model.eval() # set the model to evaluation mode\n",
        "        with torch.no_grad():\n",
        "            for i, batch in enumerate(tqdm(val_loader)):\n",
        "                features, labels = batch\n",
        "                features = features.to(device)\n",
        "                labels = labels.to(device)\n",
        "                outputs = model(features)\n",
        "                \n",
        "                loss = criterion(outputs, labels) \n",
        "                \n",
        "                _, val_pred = torch.max(outputs, 1) \n",
        "                val_acc += (val_pred.cpu() == labels.cpu()).sum().item() # get the index of the class with the highest probability\n",
        "                val_loss += loss.item()\n",
        "\n",
        "            print('[{:03d}/{:03d}] Train Acc: {:3.6f} Loss: {:3.6f} | Val Acc: {:3.6f} loss: {:3.6f}'.format(\n",
        "                epoch + 1, num_epoch, train_acc/len(train_set), train_loss/len(train_loader), val_acc/len(val_set), val_loss/len(val_loader)\n",
        "            ))\n",
        "\n",
        "            # if the model improves, save a checkpoint at this epoch\n",
        "            if val_acc > best_acc:\n",
        "                best_acc = val_acc\n",
        "                torch.save(model.state_dict(), model_path)\n",
        "                print('saving model with acc {:.3f}'.format(best_acc/len(val_set)))\n",
        "    else:\n",
        "        print('[{:03d}/{:03d}] Train Acc: {:3.6f} Loss: {:3.6f}'.format(\n",
        "            epoch + 1, num_epoch, train_acc/len(train_set), train_loss/len(train_loader)\n",
        "        ))\n",
        "\n",
        "# if not validating, save the last epoch\n",
        "if len(val_set) == 0:\n",
        "    torch.save(model.state_dict(), model_path)\n",
        "    print('saving model at last epoch')\n"
      ]
    },
    {
      "cell_type": "code",
      "execution_count": 11,
      "metadata": {
        "colab": {
          "base_uri": "https://localhost:8080/"
        },
        "id": "ab33MxosWLmG",
        "outputId": "911e8c9b-fc0f-4591-b0f6-311a1231c5e2"
      },
      "outputs": [
        {
          "data": {
            "text/plain": [
              "22"
            ]
          },
          "execution_count": 11,
          "metadata": {},
          "output_type": "execute_result"
        }
      ],
      "source": [
        "del train_loader, val_loader\n",
        "gc.collect()"
      ]
    },
    {
      "cell_type": "markdown",
      "metadata": {
        "id": "1Hi7jTn3PX-m"
      },
      "source": [
        "## Testing\n",
        "Create a testing dataset, and load model from the saved checkpoint."
      ]
    },
    {
      "cell_type": "code",
      "execution_count": 12,
      "metadata": {
        "colab": {
          "base_uri": "https://localhost:8080/"
        },
        "id": "VOG1Ou0PGrhc",
        "outputId": "abaaa25b-a93c-49b0-d228-9eca1e2ab2e0"
      },
      "outputs": [
        {
          "name": "stdout",
          "output_type": "stream",
          "text": [
            "[Dataset] - # phone classes: 41, number of utterances for test: 1078\n"
          ]
        },
        {
          "name": "stderr",
          "output_type": "stream",
          "text": [
            "1078it [00:19, 55.93it/s]"
          ]
        },
        {
          "name": "stdout",
          "output_type": "stream",
          "text": [
            "[INFO] test set\n",
            "torch.Size([646268, 1053])\n"
          ]
        },
        {
          "name": "stderr",
          "output_type": "stream",
          "text": [
            "\n"
          ]
        }
      ],
      "source": [
        "# load data\n",
        "test_X = preprocess_data(split='test', feat_dir='./libriphone/feat', phone_path='./libriphone', concat_nframes=concat_nframes)\n",
        "test_set = LibriDataset(test_X, None)\n",
        "test_loader = DataLoader(test_set, batch_size=batch_size, shuffle=False)"
      ]
    },
    {
      "cell_type": "code",
      "execution_count": 13,
      "metadata": {
        "colab": {
          "base_uri": "https://localhost:8080/"
        },
        "id": "ay0Fu8Ovkdad",
        "outputId": "e5b20aa7-4d8b-43a9-e068-f5c89706a360"
      },
      "outputs": [
        {
          "data": {
            "text/plain": [
              "<All keys matched successfully>"
            ]
          },
          "execution_count": 13,
          "metadata": {},
          "output_type": "execute_result"
        }
      ],
      "source": [
        "# load model\n",
        "model = Classifier(input_dim=input_dim, hidden_layers=hidden_layers, hidden_dim=hidden_dim).to(device)\n",
        "model.load_state_dict(torch.load(model_path))"
      ]
    },
    {
      "cell_type": "markdown",
      "metadata": {
        "id": "zp-DV1p4r7Nz"
      },
      "source": [
        "Make prediction."
      ]
    },
    {
      "cell_type": "code",
      "execution_count": 14,
      "metadata": {
        "colab": {
          "base_uri": "https://localhost:8080/"
        },
        "id": "84HU5GGjPqR0",
        "outputId": "cebd6694-8f74-44ff-f922-96ca4385acb8"
      },
      "outputs": [
        {
          "name": "stderr",
          "output_type": "stream",
          "text": [
            "100%|██████████| 632/632 [00:05<00:00, 124.86it/s]\n"
          ]
        }
      ],
      "source": [
        "test_acc = 0.0\n",
        "test_lengths = 0\n",
        "pred = np.array([], dtype=np.int32)\n",
        "\n",
        "model.eval()\n",
        "with torch.no_grad():\n",
        "    for i, batch in enumerate(tqdm(test_loader)):\n",
        "        features = batch\n",
        "        features = features.to(device)\n",
        "\n",
        "        outputs = model(features)\n",
        "\n",
        "        _, test_pred = torch.max(outputs, 1) # get the index of the class with the highest probability\n",
        "        pred = np.concatenate((pred, test_pred.cpu().numpy()), axis=0)\n"
      ]
    },
    {
      "cell_type": "markdown",
      "metadata": {
        "id": "wyZqy40Prz0v"
      },
      "source": [
        "Write prediction to a CSV file.\n",
        "\n",
        "After finish running this block, download the file `prediction.csv` from the files section on the left-hand side and submit it to Kaggle."
      ]
    },
    {
      "cell_type": "code",
      "execution_count": 15,
      "metadata": {
        "id": "GuljYSPHcZir"
      },
      "outputs": [],
      "source": [
        "with open('prediction.csv', 'w') as f:\n",
        "    f.write('Id,Class\\n')\n",
        "    for i, y in enumerate(pred):\n",
        "        f.write('{},{}\\n'.format(i, y))"
      ]
    }
  ],
  "metadata": {
    "accelerator": "GPU",
    "colab": {
      "collapsed_sections": [],
      "name": "ML2022Spring - HW2.ipynb",
      "provenance": []
    },
    "kernelspec": {
      "display_name": "Python 3",
      "name": "python3"
    },
    "language_info": {
      "codemirror_mode": {
        "name": "ipython",
        "version": 3
      },
      "file_extension": ".py",
      "mimetype": "text/x-python",
      "name": "python",
      "nbconvert_exporter": "python",
      "pygments_lexer": "ipython3",
      "version": "3.7.11"
    }
  },
  "nbformat": 4,
  "nbformat_minor": 0
}
