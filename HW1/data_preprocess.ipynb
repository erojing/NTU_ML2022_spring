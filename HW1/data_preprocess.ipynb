{
 "cells": [
  {
   "cell_type": "code",
   "execution_count": 1,
   "metadata": {},
   "outputs": [],
   "source": [
    "import pandas as pd \n",
    "import numpy as np "
   ]
  },
  {
   "cell_type": "code",
   "execution_count": 2,
   "metadata": {},
   "outputs": [],
   "source": [
    "# brief view on train/test data\n",
    "train = pd.read_csv(\"covid.train.csv\")\n",
    "test = pd.read_csv(\"covid.test.csv\")"
   ]
  },
  {
   "cell_type": "code",
   "execution_count": 31,
   "metadata": {},
   "outputs": [],
   "source": [
    "# extract only ill features\n",
    "ill = ['cli', 'ili', 'hh_cmnty_cli', 'nohh_cmnty_cli', 'tested_positive']\n",
    "ill_days = []\n",
    "for days in range(1,5):\n",
    "    for ill_sym in ill:\n",
    "        ill_days.append(ill_sym + \".{}\".format(days))\n",
    "ill.extend(ill_days)\n",
    "\n",
    "ill_index = []\n",
    "for feature in train.columns:\n",
    "    if feature in ill:\n",
    "        ill_index.append(list(train.columns).index(feature))\n",
    "    else:\n",
    "        pass"
   ]
  },
  {
   "cell_type": "code",
   "execution_count": 34,
   "metadata": {},
   "outputs": [
    {
     "data": {
      "text/plain": [
       "Index(['cli', 'ili', 'hh_cmnty_cli', 'nohh_cmnty_cli', 'tested_positive',\n",
       "       'cli.1', 'ili.1', 'hh_cmnty_cli.1', 'nohh_cmnty_cli.1',\n",
       "       'tested_positive.1', 'cli.2', 'ili.2', 'hh_cmnty_cli.2',\n",
       "       'nohh_cmnty_cli.2', 'tested_positive.2', 'cli.3', 'ili.3',\n",
       "       'hh_cmnty_cli.3', 'nohh_cmnty_cli.3', 'tested_positive.3', 'cli.4',\n",
       "       'ili.4', 'hh_cmnty_cli.4', 'nohh_cmnty_cli.4'],\n",
       "      dtype='object')"
      ]
     },
     "execution_count": 34,
     "metadata": {},
     "output_type": "execute_result"
    }
   ],
   "source": [
    "# check result\n",
    "train.columns[ill_index[:-1]]"
   ]
  },
  {
   "cell_type": "code",
   "execution_count": 37,
   "metadata": {},
   "outputs": [
    {
     "data": {
      "text/plain": [
       "[38,\n",
       " 39,\n",
       " 40,\n",
       " 41,\n",
       " 53,\n",
       " 54,\n",
       " 55,\n",
       " 56,\n",
       " 57,\n",
       " 69,\n",
       " 70,\n",
       " 71,\n",
       " 72,\n",
       " 73,\n",
       " 85,\n",
       " 86,\n",
       " 87,\n",
       " 88,\n",
       " 89,\n",
       " 101,\n",
       " 102,\n",
       " 103,\n",
       " 104,\n",
       " 105]"
      ]
     },
     "execution_count": 37,
     "metadata": {},
     "output_type": "execute_result"
    }
   ],
   "source": [
    "# paste result\n",
    "ill_index[:-1]"
   ]
  },
  {
   "cell_type": "code",
   "execution_count": null,
   "metadata": {},
   "outputs": [],
   "source": []
  }
 ],
 "metadata": {
  "interpreter": {
   "hash": "bbd52cdc75520e4f84b7998e2639d07ea5ceca4b4baeb08c291380f3647c9701"
  },
  "kernelspec": {
   "display_name": "Python 3.7.11",
   "language": "python",
   "name": "python3"
  },
  "language_info": {
   "codemirror_mode": {
    "name": "ipython",
    "version": 3
   },
   "file_extension": ".py",
   "mimetype": "text/x-python",
   "name": "python",
   "nbconvert_exporter": "python",
   "pygments_lexer": "ipython3",
   "version": "3.7.11"
  },
  "orig_nbformat": 4
 },
 "nbformat": 4,
 "nbformat_minor": 2
}
